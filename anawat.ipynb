{
  "cells": [
    {
      "cell_type": "code",
      "execution_count": 1,
      "metadata": {},
      "outputs": [
        {
          "ename": "ValueError",
          "evalue": "operands could not be broadcast together with shapes (199911,) (200,) ",
          "output_type": "error",
          "traceback": [
            "\u001b[0;31m---------------------------------------------------------------------------\u001b[0m",
            "\u001b[0;31mValueError\u001b[0m                                Traceback (most recent call last)",
            "\u001b[1;32m/Users/erick/Documents/GitHub/classes/anawat.ipynb Cell 1\u001b[0m line \u001b[0;36m3\n\u001b[1;32m     <a href='vscode-notebook-cell:/Users/erick/Documents/GitHub/classes/anawat.ipynb#Y104sZmlsZQ%3D%3D?line=31'>32</a>\u001b[0m \u001b[39m# 計算の精度についての議論\u001b[39;00m\n\u001b[1;32m     <a href='vscode-notebook-cell:/Users/erick/Documents/GitHub/classes/anawat.ipynb#Y104sZmlsZQ%3D%3D?line=32'>33</a>\u001b[0m \u001b[39m# 正解との比較を行います\u001b[39;00m\n\u001b[1;32m     <a href='vscode-notebook-cell:/Users/erick/Documents/GitHub/classes/anawat.ipynb#Y104sZmlsZQ%3D%3D?line=34'>35</a>\u001b[0m \u001b[39mfor\u001b[39;00m i, delta_x \u001b[39min\u001b[39;00m \u001b[39menumerate\u001b[39m(delta_x_values):\n\u001b[0;32m---> <a href='vscode-notebook-cell:/Users/erick/Documents/GitHub/classes/anawat.ipynb#Y104sZmlsZQ%3D%3D?line=35'>36</a>\u001b[0m     max_error \u001b[39m=\u001b[39m np\u001b[39m.\u001b[39mmax(np\u001b[39m.\u001b[39mabs(t_true \u001b[39m-\u001b[39;49m t_approximations[i]))\n\u001b[1;32m     <a href='vscode-notebook-cell:/Users/erick/Documents/GitHub/classes/anawat.ipynb#Y104sZmlsZQ%3D%3D?line=36'>37</a>\u001b[0m     \u001b[39mprint\u001b[39m(\u001b[39mf\u001b[39m\u001b[39m\"\u001b[39m\u001b[39mΔx = \u001b[39m\u001b[39m{\u001b[39;00mdelta_x\u001b[39m}\u001b[39;00m\u001b[39mm の場合の最大誤差: \u001b[39m\u001b[39m{\u001b[39;00mmax_error\u001b[39m}\u001b[39;00m\u001b[39m秒\u001b[39m\u001b[39m\"\u001b[39m)\n\u001b[1;32m     <a href='vscode-notebook-cell:/Users/erick/Documents/GitHub/classes/anawat.ipynb#Y104sZmlsZQ%3D%3D?line=38'>39</a>\u001b[0m \u001b[39m# グラフのプロット\u001b[39;00m\n",
            "\u001b[0;31mValueError\u001b[0m: operands could not be broadcast together with shapes (199911,) (200,) "
          ]
        }
      ],
      "source": [
        "import numpy as np\n",
        "\n",
        "# 定数の設定\n",
        "g = 9.81  # 重力加速度 (m/s^2)\n",
        "depth = 90  # 水深 (m)\n",
        "x_max = 200000  # 到達位置の最大値 (m)\n",
        "\n",
        "# 津波の伝播速度の関数\n",
        "def wave_speed(depth):\n",
        "    return np.sqrt(g * depth)\n",
        "\n",
        "# 津波の伝播速度 (c)\n",
        "c = wave_speed(depth)  # km/hに換算する必要がある場合は * 3.6 を追加\n",
        "\n",
        "# 到達時間の関数\n",
        "def arrival_time(x, c):\n",
        "    return x / c\n",
        "\n",
        "# 正解の到達時間 (Δx=1mの場合)\n",
        "x_true = np.arange(depth, x_max + 1, 1)\n",
        "t_true = arrival_time(x_true, c)\n",
        "\n",
        "# Δxが1000等分、100等分、10等分の場合の到達時間\n",
        "delta_x_values = [1000, 100, 10]\n",
        "t_approximations = []\n",
        "\n",
        "for delta_x in delta_x_values:\n",
        "    x_approx = np.arange(depth, x_max + 1, delta_x)\n",
        "    t_approx = arrival_time(x_approx, c)\n",
        "    t_approximations.append(t_approx)\n",
        "\n",
        "# 計算の精度についての議論\n",
        "# 正解との比較を行います\n",
        "\n",
        "for i, delta_x in enumerate(delta_x_values):\n",
        "    max_error = np.max(np.abs(t_true - t_approximations[i]))\n",
        "    print(f\"Δx = {delta_x}m の場合の最大誤差: {max_error}秒\")\n",
        "\n",
        "# グラフのプロット\n",
        "import matplotlib.pyplot as plt\n",
        "\n",
        "plt.figure(figsize=(10, 6))\n",
        "plt.plot(x_true, t_true, label=\"正解 (Δx=1m)\", color='blue')\n",
        "for i, delta_x in enumerate(delta_x_values):\n",
        "    plt.plot(x_approx, t_approximations[i], label=f\"Δx={delta_x}m\", alpha=0.7)\n",
        "\n",
        "plt.xlabel(\"到達位置 (m)\")\n",
        "plt.ylabel(\"到達時間 (秒)\")\n",
        "plt.legend()\n",
        "plt.title(\"到達時間の推定\")\n",
        "plt.show()\n"
      ]
    },
    {
      "cell_type": "code",
      "execution_count": null,
      "metadata": {
        "colab": {
          "base_uri": "https://localhost:8080/",
          "height": 263
        },
        "id": "TtES-fuJl9nD",
        "outputId": "1b5d1d7a-0e56-4a17-a2a4-b1f9d38da587"
      },
      "outputs": [
        {
          "name": "stdout",
          "output_type": "stream",
          "text": [
            "Drive already mounted at /content/drive; to attempt to forcibly remount, call drive.mount(\"/content/drive\", force_remount=True).\n"
          ]
        },
        {
          "ename": "FileNotFoundError",
          "evalue": "ignored",
          "output_type": "error",
          "traceback": [
            "\u001b[0;31m---------------------------------------------------------------------------\u001b[0m",
            "\u001b[0;31mFileNotFoundError\u001b[0m                         Traceback (most recent call last)",
            "\u001b[0;32m<ipython-input-2-739df47bedf1>\u001b[0m in \u001b[0;36m<module>\u001b[0;34m\u001b[0m\n\u001b[1;32m      5\u001b[0m \u001b[0;32mfrom\u001b[0m \u001b[0mgoogle\u001b[0m\u001b[0;34m.\u001b[0m\u001b[0mcolab\u001b[0m \u001b[0;32mimport\u001b[0m \u001b[0mdrive\u001b[0m\u001b[0;34m\u001b[0m\u001b[0;34m\u001b[0m\u001b[0m\n\u001b[1;32m      6\u001b[0m \u001b[0mdrive\u001b[0m\u001b[0;34m.\u001b[0m\u001b[0mmount\u001b[0m\u001b[0;34m(\u001b[0m\u001b[0;34m'/content/drive'\u001b[0m\u001b[0;34m)\u001b[0m\u001b[0;34m\u001b[0m\u001b[0;34m\u001b[0m\u001b[0m\n\u001b[0;32m----> 7\u001b[0;31m \u001b[0;32mwith\u001b[0m \u001b[0mopen\u001b[0m\u001b[0;34m(\u001b[0m\u001b[0;34m'/content/drive/MyDrive/Topo27m.txt'\u001b[0m\u001b[0;34m,\u001b[0m \u001b[0mnewline\u001b[0m \u001b[0;34m=\u001b[0m \u001b[0;34m''\u001b[0m\u001b[0;34m)\u001b[0m \u001b[0;32mas\u001b[0m \u001b[0minput_file\u001b[0m\u001b[0;34m:\u001b[0m   \u001b[0;31m#import text file\u001b[0m\u001b[0;34m\u001b[0m\u001b[0;34m\u001b[0m\u001b[0m\n\u001b[0m\u001b[1;32m      8\u001b[0m     \u001b[0mhead\u001b[0m \u001b[0;34m=\u001b[0m \u001b[0minput_file\u001b[0m\u001b[0;34m.\u001b[0m\u001b[0mreadlines\u001b[0m\u001b[0;34m(\u001b[0m\u001b[0;34m)\u001b[0m                               \u001b[0;31m#read all lines in text file\u001b[0m\u001b[0;34m\u001b[0m\u001b[0;34m\u001b[0m\u001b[0m\n\u001b[1;32m      9\u001b[0m     \u001b[0mTopo\u001b[0m \u001b[0;34m=\u001b[0m \u001b[0;34m[\u001b[0m\u001b[0mi\u001b[0m\u001b[0;34m.\u001b[0m\u001b[0msplit\u001b[0m\u001b[0;34m(\u001b[0m\u001b[0;34m)\u001b[0m \u001b[0;32mfor\u001b[0m \u001b[0mi\u001b[0m \u001b[0;32min\u001b[0m \u001b[0mhead\u001b[0m\u001b[0;34m]\u001b[0m                            \u001b[0;31m#split column in each line in text file\u001b[0m\u001b[0;34m\u001b[0m\u001b[0;34m\u001b[0m\u001b[0m\n",
            "\u001b[0;31mFileNotFoundError\u001b[0m: [Errno 2] No such file or directory: '/content/drive/MyDrive/Topo27m.txt'"
          ]
        }
      ],
      "source": [
        "import numpy as np\n",
        "Long    = []\n",
        "Lat     = []\n",
        "Elev    = []\n",
        "from google.colab import drive\n",
        "drive.mount('/content/drive')\n",
        "with open('/content/drive/MyDrive/Topo27m.txt', newline = '') as input_file:   #import text file\n",
        "    head = input_file.readlines()                               #read all lines in text file\n",
        "    Topo = [i.split() for i in head]                            #split column in each line in text file\n",
        "    for i in Topo:\n",
        "        Long.append(i[0])                                       #read 1st column\n",
        "        Lat.append(i[1])                                        #read 2nd column\n",
        "        Elev.append(i[2])                                       #read 3rd column\n",
        "\n",
        "### Convert strings to floats/integers ###\n",
        "Long    = [float(i) for i in Long]\n",
        "Lat     = [float(i) for i in Lat]\n",
        "Elev    = [float(i) for i in Elev]\n",
        "Topo_out = np.stack([Long,Lat,Elev], axis=1)\n",
        "#print(Topo_out)\n",
        "\n",
        "### save as CSV file ###\n",
        "np.savetxt('/content/drive/MyDrive/Topo_csv.csv', Topo_out,  delimiter=',', fmt='%.2f')"
      ]
    },
    {
      "cell_type": "code",
      "execution_count": null,
      "metadata": {
        "id": "nqGeGfz261JP"
      },
      "outputs": [],
      "source": []
    },
    {
      "cell_type": "code",
      "execution_count": null,
      "metadata": {
        "colab": {
          "base_uri": "https://localhost:8080/",
          "height": 263
        },
        "id": "zA8id_No79w8",
        "outputId": "0456b215-5d84-49c6-846f-7f4c6e28823d"
      },
      "outputs": [
        {
          "name": "stdout",
          "output_type": "stream",
          "text": [
            "Drive already mounted at /content/drive; to attempt to forcibly remount, call drive.mount(\"/content/drive\", force_remount=True).\n"
          ]
        },
        {
          "ename": "FileNotFoundError",
          "evalue": "ignored",
          "output_type": "error",
          "traceback": [
            "\u001b[0;31m---------------------------------------------------------------------------\u001b[0m",
            "\u001b[0;31mFileNotFoundError\u001b[0m                         Traceback (most recent call last)",
            "\u001b[0;32m<ipython-input-3-271672b60e57>\u001b[0m in \u001b[0;36m<module>\u001b[0;34m\u001b[0m\n\u001b[1;32m      7\u001b[0m \u001b[0;32mfrom\u001b[0m \u001b[0mgoogle\u001b[0m\u001b[0;34m.\u001b[0m\u001b[0mcolab\u001b[0m \u001b[0;32mimport\u001b[0m \u001b[0mdrive\u001b[0m\u001b[0;34m\u001b[0m\u001b[0;34m\u001b[0m\u001b[0m\n\u001b[1;32m      8\u001b[0m \u001b[0mdrive\u001b[0m\u001b[0;34m.\u001b[0m\u001b[0mmount\u001b[0m\u001b[0;34m(\u001b[0m\u001b[0;34m'/content/drive'\u001b[0m\u001b[0;34m)\u001b[0m\u001b[0;34m\u001b[0m\u001b[0;34m\u001b[0m\u001b[0m\n\u001b[0;32m----> 9\u001b[0;31m \u001b[0;32mwith\u001b[0m \u001b[0mopen\u001b[0m\u001b[0;34m(\u001b[0m\u001b[0;34m'/content/drive/MyDrive/Topo27m.txt'\u001b[0m\u001b[0;34m,\u001b[0m \u001b[0mnewline\u001b[0m \u001b[0;34m=\u001b[0m \u001b[0;34m''\u001b[0m\u001b[0;34m)\u001b[0m \u001b[0;32mas\u001b[0m \u001b[0minput_file\u001b[0m\u001b[0;34m:\u001b[0m   \u001b[0;31m#import text file\u001b[0m\u001b[0;34m\u001b[0m\u001b[0;34m\u001b[0m\u001b[0m\n\u001b[0m\u001b[1;32m     10\u001b[0m     \u001b[0mhead\u001b[0m \u001b[0;34m=\u001b[0m \u001b[0minput_file\u001b[0m\u001b[0;34m.\u001b[0m\u001b[0mreadlines\u001b[0m\u001b[0;34m(\u001b[0m\u001b[0;34m)\u001b[0m                               \u001b[0;31m#read all lines in text file\u001b[0m\u001b[0;34m\u001b[0m\u001b[0;34m\u001b[0m\u001b[0m\n\u001b[1;32m     11\u001b[0m     \u001b[0mTopo\u001b[0m \u001b[0;34m=\u001b[0m \u001b[0;34m[\u001b[0m\u001b[0mi\u001b[0m\u001b[0;34m.\u001b[0m\u001b[0msplit\u001b[0m\u001b[0;34m(\u001b[0m\u001b[0;34m)\u001b[0m \u001b[0;32mfor\u001b[0m \u001b[0mi\u001b[0m \u001b[0;32min\u001b[0m \u001b[0mhead\u001b[0m\u001b[0;34m]\u001b[0m                            \u001b[0;31m#split column in each line in text file\u001b[0m\u001b[0;34m\u001b[0m\u001b[0;34m\u001b[0m\u001b[0m\n",
            "\u001b[0;31mFileNotFoundError\u001b[0m: [Errno 2] No such file or directory: '/content/drive/MyDrive/Topo27m.txt'"
          ]
        }
      ],
      "source": [
        "import matplotlib.pyplot as plt\n",
        "import numpy as np\n",
        "from scipy.interpolate import griddata\n",
        "Long    = []\n",
        "Lat     = []\n",
        "Elev    = []\n",
        "from google.colab import drive\n",
        "drive.mount('/content/drive')\n",
        "with open('/content/drive/MyDrive/Topo27m.txt', newline = '') as input_file:   #import text file\n",
        "    head = input_file.readlines()                               #read all lines in text file\n",
        "    Topo = [i.split() for i in head]                            #split column in each line in text file\n",
        "    for i in Topo:\n",
        "        Long.append(i[0])                                       #read 1st column\n",
        "        Lat.append(i[1])                                        #read 2nd column\n",
        "        Elev.append(i[2])                                       #read 3rd column\n",
        "\n",
        "### Convert strings to floats/integers ###\n",
        "Long    = [float(i) for i in Long]\n",
        "Lat     = [float(i) for i in Lat]\n",
        "Elev    = [float(i) for i in Elev]\n",
        "### prepare grid data from imported coordinates ###\n",
        "ncol = 810                      #no. of columns\n",
        "nrow = 1124                     #no. of row\n",
        "x_array = np.linspace(min(Long), max(Long), ncol)\n",
        "y_array = np.linspace(min(Lat), max(Lat), nrow)\n",
        "\n",
        "### arrange Elevation data into (x,y) ###\n",
        "x,y = np.meshgrid(x_array, y_array)\n",
        "z = griddata((Long, Lat), Elev, (x, y), method='linear')\n",
        "\n",
        "### plotting configurations ##\n",
        "fig,ax = plt.subplots()\n",
        "\n",
        "# plot topography #\n",
        "plt.scatter(x,y,1,z, cmap = 'terrain')\n",
        "cbar = plt.colorbar(label='Elevation above sea level [m]')\n",
        "\n",
        "plt.xlabel('Longitude (m)')\n",
        "plt.ylabel('Latitude (m)')\n",
        "\n",
        "ax.set_aspect('equal')\n",
        "plt.xlim(min(Long), max(Long))\n",
        "plt.ylim(min(Lat), max(Lat))\n",
        "\n",
        "fig.savefig('/content/drive/MyDrive/Topo_scatter.png',  overwrite=True, dpi=600)\n",
        "\n",
        "plt.show()"
      ]
    },
    {
      "cell_type": "code",
      "execution_count": null,
      "metadata": {
        "colab": {
          "base_uri": "https://localhost:8080/",
          "height": 331
        },
        "id": "amH46tNdC0tN",
        "outputId": "7e3003a1-bd81-4a2c-ae82-07c22a034f61"
      },
      "outputs": [
        {
          "name": "stdout",
          "output_type": "stream",
          "text": [
            "Drive already mounted at /content/drive; to attempt to forcibly remount, call drive.mount(\"/content/drive\", force_remount=True).\n",
            "Drive already mounted at /content/drive; to attempt to forcibly remount, call drive.mount(\"/content/drive\", force_remount=True).\n"
          ]
        },
        {
          "data": {
            "image/png": "[encoded data removed]",
            "text/plain": [
              "<Figure size 432x288 with 1 Axes>"
            ]
          },
          "metadata": {
            "needs_background": "light"
          },
          "output_type": "display_data"
        }
      ],
      "source": [
        "import numpy as np\n",
        "import matplotlib.pyplot as plt\n",
        "\n",
        "###################################################################################################\n",
        "#Data for plotting\n",
        "#Simulation Results\n",
        "from google.colab import drive\n",
        "drive.mount('/content/drive')\n",
        "path = '/content/drive/MyDrive/Sim_TideGuage.txt'\n",
        "Sim = np.loadtxt(path, dtype=float)\n",
        "tSim = np.arange(0,90,0.25)\n",
        "\n",
        "#Observation Data\n",
        "from google.colab import drive\n",
        "drive.mount('/content/drive')\n",
        "path = '/content/drive/MyDrive/Obs_TideGuage.txt'\n",
        "Obs = np.loadtxt(path, dtype=float)\n",
        "tObs = np.arange(0,90,1)                  #in minute\n",
        "\n",
        "#Tide Level (+MSL)\n",
        "Tide = 2.3\n",
        "\n",
        "### Ploting Configurations ###\n",
        "fig, ax = plt.subplots()\n",
        "ax.plot(tObs, Obs, '--', markersize='3', color='red', label=\"Observation\")                 #plot observation\n",
        "ax.plot(tSim, Sim-Tide, color='black', linewidth=1, linestyle='solid', label=\"Simulation\") #plot simulation. Simulation was adjusted to tide Level, do not forget to detide value.\n",
        "\n",
        "ax.set(xlabel='Time (min)', ylabel='Water Level (m. MSL)',\n",
        "       title='Waveform at Pantoloan tide guage station')\n",
        "ax.set_xlim([0,90])\n",
        "ax.grid(linestyle='dashed')\n",
        "ax.set_facecolor('gainsboro')\n",
        "plt.legend()\n",
        "\n",
        "### Save Figure ###\n",
        "fig.savefig('/content/drive/MyDrive/waveforms.png',  overwrite=True, dpi=600)\n",
        "plt.show()"
      ]
    },
    {
      "cell_type": "code",
      "execution_count": null,
      "metadata": {
        "colab": {
          "base_uri": "https://localhost:8080/"
        },
        "id": "B9RimTQLGbeM",
        "outputId": "152b5ae4-d3dc-46d7-c130-c00b5a87fc65"
      },
      "outputs": [
        {
          "name": "stdout",
          "output_type": "stream",
          "text": [
            "1 0.4315935776791131\n",
            "2 0.4666761589776134\n",
            "3 0.446438841279029\n",
            "4 0.45755203626717367\n",
            "5 0.4512574025770899\n",
            "6 0.4547658233425247\n",
            "7 0.45279191635777005\n",
            "8 0.45389677953561725\n",
            "9 0.45327654170813547\n",
            "10 0.4536241594660637\n",
            "11 0.45342915563007224\n",
            "12 0.4535384913164704\n",
            "13 0.45347717082864647\n",
            "14 0.4535115566404162\n",
            "15 0.45349227285794247\n",
            "16 0.453503086777967\n",
            "17 0.4534970223976573\n"
          ]
        }
      ],
      "source": [
        "import numpy as np\n",
        "\n",
        "def f(x):\n",
        "    return np.exp(x)-5.0*np.sin(x)+2.36*x\n",
        "\n",
        "x0 = 0.5\n",
        "EPS = 1e-5\n",
        "IMAX = 50\n",
        "for i in range(IMAX):\n",
        "    x1 = f(x0)\n",
        "    if abs(x1-x0)<EPS:\n",
        "        print(i+1,x1)\n",
        "        break\n",
        "    else:\n",
        "        x0=x1\n",
        "    print(i+1,x1)\n",
        "\n"
      ]
    },
    {
      "cell_type": "code",
      "execution_count": null,
      "metadata": {
        "colab": {
          "base_uri": "https://localhost:8080/"
        },
        "id": "nhB7Q_FTJM6R",
        "outputId": "ac4644f6-861a-4c84-e28e-3b7f6d95487b"
      },
      "outputs": [
        {
          "name": "stdout",
          "output_type": "stream",
          "text": [
            "1 0.5\n",
            "2 0.25\n",
            "3 0.375\n",
            "4 0.4375\n",
            "5 0.40625\n",
            "6 0.421875\n",
            "7 0.4140625\n",
            "8 0.41796875\n",
            "9 0.416015625\n",
            "10 0.4150390625\n",
            "11 0.41455078125\n",
            "12 0.414306640625\n",
            "13 0.4141845703125\n",
            "14 0.41424560546875\n",
            "15 0.414215087890625\n",
            "16 0.4141998291015625\n",
            "17 0.41420745849609375\n",
            "18 0.4142112731933594\n",
            "19 0.4142131805419922\n",
            "20 0.4142141342163086\n",
            "21 0.4142136573791504\n",
            "22 0.4142134189605713\n"
          ]
        }
      ],
      "source": [
        "import numpy as np\n",
        "\n",
        "def f(x):\n",
        "#   return np.cos(x)-x**2.0\n",
        "    return x**2+2*x-1\n",
        "A = 0.0\n",
        "B = 1.0\n",
        "EPS = 1e-7\n",
        "IMAX = 50\n",
        "for i in range(IMAX):\n",
        "    #C=(A*f(B)-B*f(A))/(f(B)-f(A))\n",
        "    C=(A+B)/2\n",
        "    if abs(f(C))<EPS:\n",
        "        break\n",
        "    else:\n",
        "        if f(A)*f(C)<0:\n",
        "             B=C\n",
        "        elif f(C)*f(B)<0:\n",
        "             A=C\n",
        "    print(i+1,C)"
      ]
    },
    {
      "cell_type": "code",
      "execution_count": null,
      "metadata": {
        "colab": {
          "base_uri": "https://localhost:8080/"
        },
        "id": "SJb9y0BaJXHI",
        "outputId": "4ea4b5fd-c469-4761-e7b7-1be4e7161e23"
      },
      "outputs": [
        {
          "name": "stdout",
          "output_type": "stream",
          "text": [
            "1 0.25\n",
            "2 0.3125\n",
            "3 0.33203125\n",
            "4 0.3333282470703125\n",
            "5 0.3333333332557231\n"
          ]
        }
      ],
      "source": [
        "import numpy as np\n",
        "\n",
        "def f(x):\n",
        " #   return np.cos(x)-x**2.0\n",
        "    return (1/x)-3\n",
        "def df(x):\n",
        "#    return -np.sin(x)-2.0*x\n",
        "    return -1/(x**2)\n",
        "x0 = 0.5\n",
        "EPS = 1e-7\n",
        "IMAX = 50\n",
        "for i in range(IMAX):\n",
        "    x1=x0-f(x0)/df(x0)\n",
        "    if abs(x1-x0)<EPS:\n",
        "        break\n",
        "    else:\n",
        "        x0=x1\n",
        "    print(i+1,x1)"
      ]
    },
    {
      "cell_type": "code",
      "execution_count": null,
      "metadata": {
        "colab": {
          "base_uri": "https://localhost:8080/"
        },
        "id": "AfAlh2ELVSZ4",
        "outputId": "9872cd91-fde5-4c74-d287-e9df8b489598"
      },
      "outputs": [
        {
          "name": "stdout",
          "output_type": "stream",
          "text": [
            "1 0.4166666666666667\n",
            "2 0.41421568627450983\n",
            "3 0.41421356237468987\n"
          ]
        }
      ],
      "source": [
        "import numpy as np\n",
        "\n",
        "def f(x):\n",
        " #   return np.cos(x)-x**2.0\n",
        "    return x**2+2*x-1\n",
        "def df(x):\n",
        "#    return -np.sin(x)-2.0*x\n",
        "    return 2*x+2\n",
        "x0 = 0.5\n",
        "EPS = 1e-7\n",
        "IMAX = 50\n",
        "for i in range(IMAX):\n",
        "    x1=x0-f(x0)/df(x0)\n",
        "    if abs(x1-x0)<EPS:\n",
        "        break\n",
        "    else:\n",
        "        x0=x1\n",
        "    print(i+1,x1)"
      ]
    },
    {
      "cell_type": "code",
      "execution_count": null,
      "metadata": {
        "colab": {
          "base_uri": "https://localhost:8080/"
        },
        "id": "qQoa9ze1JYza",
        "outputId": "7b6cb5e5-4a4e-4cb4-a6ee-836c8338bd40"
      },
      "outputs": [
        {
          "name": "stdout",
          "output_type": "stream",
          "text": [
            "1 0.4\n",
            "2 0.41379310344827586\n",
            "3 0.41421568627450983\n",
            "4 0.41421356205732046\n"
          ]
        }
      ],
      "source": [
        "import numpy as np\n",
        "def f(x):\n",
        "#    return np.cos(x)-x**2.0\n",
        "    return x**2+2*x-1\n",
        "\n",
        "x_1 = 0.0\n",
        "x0 = 0.5\n",
        "EPS = 1e-7\n",
        "IMAX = 50\n",
        "for i in range(IMAX):\n",
        "    x1=x0-f(x0)*(x0-x_1)/(f(x0)-f(x_1))\n",
        "    if abs(x1-x0)<EPS:\n",
        "        break\n",
        "    else:\n",
        "        x_1=x0\n",
        "        x0=x1\n",
        "    print(i+1,x1)"
      ]
    },
    {
      "cell_type": "code",
      "execution_count": null,
      "metadata": {
        "colab": {
          "base_uri": "https://localhost:8080/"
        },
        "id": "-F8fFg2Z9hWz",
        "outputId": "91b70646-87f1-4919-9669-dbaa6569fdc2"
      },
      "outputs": [
        {
          "name": "stdout",
          "output_type": "stream",
          "text": [
            "Optimization terminated successfully.\n",
            "         Current function value: 0.000000\n",
            "         Iterations: 339\n",
            "         Function evaluations: 571\n",
            "[1. 1. 1. 1. 1.]\n"
          ]
        }
      ],
      "source": [
        "import numpy as np\n",
        "from scipy.optimize import minimize\n",
        "def rosen(x):\n",
        "    return sum(100.0*(x[1:]-x[:-1]**2.0)**2.0 + (1-x[:-1])**2.0)\n",
        "\n",
        "x0 = np.array([1.3, 0.7, 0.8, 1.9, 1.2])\n",
        "res = minimize(rosen, x0, method='Nelder-Mead',\n",
        "                options={'xtol': 1e-8, 'disp': True})\n",
        "\n",
        "print(res.x)"
      ]
    },
    {
      "cell_type": "code",
      "execution_count": null,
      "metadata": {
        "colab": {
          "base_uri": "https://localhost:8080/"
        },
        "id": "vOY6lsPyi1Ax",
        "outputId": "802862e0-0250-4447-9ece-409edd2c9f2b"
      },
      "outputs": [
        {
          "data": {
            "text/plain": [
              "[0.7, 0.8, 1.9, 1.2]"
            ]
          },
          "execution_count": 4,
          "metadata": {},
          "output_type": "execute_result"
        }
      ],
      "source": [
        "x = [1.3, 0.7, 0.8, 1.9, 1.2]\n",
        "x[1:]\n",
        "#x[:-1]"
      ]
    },
    {
      "cell_type": "code",
      "execution_count": null,
      "metadata": {
        "id": "ouZ3ms_CsJpH"
      },
      "outputs": [],
      "source": []
    },
    {
      "cell_type": "code",
      "execution_count": null,
      "metadata": {
        "colab": {
          "base_uri": "https://localhost:8080/"
        },
        "id": "v38EGAJUEmcS",
        "outputId": "c2c321b5-d426-4bf5-a680-3fa7b3ac527b"
      },
      "outputs": [
        {
          "name": "stdout",
          "output_type": "stream",
          "text": [
            "Optimization terminated successfully.\n",
            "         Current function value: 0.000000\n",
            "         Iterations: 22\n",
            "         Function evaluations: 31\n",
            "         Gradient evaluations: 31\n",
            "[1. 1. 1. 1. 1. 1. 1.]\n"
          ]
        }
      ],
      "source": [
        "def rosen_der(x):\n",
        "    xm = x[1:-1]\n",
        "    xm_m1 = x[:-2]\n",
        "    xm_p1 = x[2:]\n",
        "    der = np.zeros_like(x)\n",
        "    der[1:-1] = 200*(xm-xm_m1**2) - 400*(xm_p1 - xm**2)*xm - 2*(1-xm)\n",
        "    der[0] = -400*x[0]*(x[1]-x[0]**2) - 2*(1-x[0])\n",
        "    der[-1] = 200*(x[-1]-x[-2]**2)\n",
        "    return der\n",
        "\n",
        "res = minimize(rosen, x0, method='BFGS', jac=rosen_der,options={'disp': True})\n",
        "\n",
        "print(res.x)"
      ]
    },
    {
      "cell_type": "code",
      "execution_count": null,
      "metadata": {
        "colab": {
          "base_uri": "https://localhost:8080/"
        },
        "id": "kfz2KTiwQhC_",
        "outputId": "5dd68cd7-7a3f-491d-ced7-f43c3c6f52b4"
      },
      "outputs": [
        {
          "name": "stdout",
          "output_type": "stream",
          "text": [
            "1.1619043749999998\n"
          ]
        }
      ],
      "source": [
        "import numpy as np\n",
        "def l(i,XX,X):\n",
        "    numer=1.0\n",
        "    denom=1.0\n",
        "    for j in range(0,N):\n",
        "        if j!=i:\n",
        "            numer=numer*(XX-X[j])\n",
        "            denom=denom*(X[i]-X[j])\n",
        "    l=numer/denom\n",
        "    return l\n",
        "N=3\n",
        "X=np.zeros(N+1)\n",
        "Y=np.zeros(N+1)\n",
        "X[0]=0.0;Y[0]=1.0;\n",
        "X[1]=0.1;Y[1]=1.1051710;\n",
        "X[2]=0.2;Y[2]=1.2214030;\n",
        "XX=0.15\n",
        "Pn=0.0\n",
        "for i in range(0,N):\n",
        "    Pn=Pn+Y[i]*l(i,XX,X)\n",
        "print(Pn)"
      ]
    },
    {
      "cell_type": "code",
      "execution_count": null,
      "metadata": {
        "colab": {
          "base_uri": "https://localhost:8080/"
        },
        "id": "2jcpzQr_Q07V",
        "outputId": "9f0ac75a-6479-460c-a196-be627bb8ddec"
      },
      "outputs": [
        {
          "name": "stdout",
          "output_type": "stream",
          "text": [
            "1.9999999999999998\n"
          ]
        }
      ],
      "source": [
        "import numpy as np\n",
        "def l(i,XX,X):\n",
        "    numer=1.0\n",
        "    denom=1.0\n",
        "    for j in range(0,N):\n",
        "        if j!=i:\n",
        "            numer=numer*(XX-X[j])\n",
        "            denom=denom*(X[i]-X[j])\n",
        "    l=numer/denom\n",
        "    return l\n",
        "N=4\n",
        "X=np.zeros(N+1)\n",
        "Y=np.zeros(N+1)\n",
        "dY=np.zeros(N+1)\n",
        "X[0]=-1;Y[0]= 2;\n",
        "X[1]= 0;Y[1]= 5;\n",
        "X[2]= 2;Y[2]=-1;\n",
        "X[3]= 3;Y[3]= 2;\n",
        "XX= 1\n",
        "Pn=0.0\n",
        "for i in range(0,N):\n",
        "    Pn=Pn+Y[i]*l(i,XX,X)\n",
        "print(Pn)"
      ]
    },
    {
      "cell_type": "code",
      "execution_count": null,
      "metadata": {
        "colab": {
          "base_uri": "https://localhost:8080/"
        },
        "id": "GopEqWbkhgxC",
        "outputId": "abbc57fd-10c7-4dc6-a6c8-4c39853bd819"
      },
      "outputs": [
        {
          "name": "stdout",
          "output_type": "stream",
          "text": [
            "0.49992400000000004\n"
          ]
        }
      ],
      "source": [
        "import numpy as np\n",
        "def l(i,XX,X):\n",
        "    numer=1.0\n",
        "    denom=1.0\n",
        "    for j in range(0,N):\n",
        "        if j!=i:\n",
        "            numer=numer*(XX-X[j])\n",
        "            denom=denom*(X[i]-X[j])\n",
        "    l=numer/denom\n",
        "    return l\n",
        "N=2\n",
        "#X=np.zeros(N+1)\n",
        "#Y=np.zeros(N+1)\n",
        "#dY=np.zeros(N+1)\n",
        "X[0]=29;Y[0]= 0.484810;\n",
        "X[1]=31;Y[1]= 0.515038;\n",
        "\n",
        "XX= 30\n",
        "Pn=0.0\n",
        "for i in range(0,N):\n",
        "    Pn=Pn+Y[i]*l(i,XX,X)\n",
        "print(Pn)"
      ]
    },
    {
      "cell_type": "code",
      "execution_count": null,
      "metadata": {
        "colab": {
          "base_uri": "https://localhost:8080/"
        },
        "id": "87JJFLjxEupw",
        "outputId": "57ed2101-c23b-4fd2-88e8-95973f45e01a"
      },
      "outputs": [
        {
          "name": "stdout",
          "output_type": "stream",
          "text": [
            "1.1619043749999998\n"
          ]
        }
      ],
      "source": [
        "import numpy as np\n",
        "def l(i,XX,X):\n",
        "    numer=1.0\n",
        "    denom=1.0\n",
        "    for j in range(0,N):\n",
        "        if j!=i:\n",
        "            numer=numer*(XX-X[j])\n",
        "            denom=denom*(X[i]-X[j])\n",
        "    l=numer/denom\n",
        "    return l\n",
        "N=3\n",
        "X[0]=0.0;Y[0]=1.0;\n",
        "X[1]=0.1;Y[1]=1.1051710;\n",
        "X[2]=0.2;Y[2]=1.2214030;\n",
        "XX=0.15\n",
        "Pn=0.0\n",
        "for i in range(0,N):\n",
        "    Pn=Pn+Y[i]*l(i,XX,X)\n",
        "print(Pn)"
      ]
    },
    {
      "cell_type": "code",
      "execution_count": null,
      "metadata": {
        "colab": {
          "base_uri": "https://localhost:8080/",
          "height": 297
        },
        "id": "heMmnDckQ8mW",
        "outputId": "d8f368ec-7569-4a37-a83b-4797de1471b8"
      },
      "outputs": [
        {
          "data": {
            "image/png": "[encoded data removed]",
            "text/plain": [
              "<Figure size 432x288 with 4 Axes>"
            ]
          },
          "metadata": {
            "needs_background": "light"
          },
          "output_type": "display_data"
        }
      ],
      "source": [
        "import numpy as np\n",
        "from scipy.interpolate import griddata\n",
        "import matplotlib.pyplot as plt\n",
        "\n",
        "x = np.linspace(-1,1,100)\n",
        "y =  np.linspace(-1,1,100)\n",
        "X, Y = np.meshgrid(x,y)\n",
        "def f(x, y):\n",
        "    s = np.hypot(x, y)\n",
        "    phi = np.arctan2(y, x)\n",
        "    tau = s + s*(1-s)/5 * np.sin(6*phi)\n",
        "    return 5*(1-tau) + tau\n",
        "T = f(X, Y)\n",
        "\n",
        "# Choose npts random point from the discrete domain of our model function\n",
        "npts = 500\n",
        "\n",
        "#np.random.choice is randomly select value between (x,y)\n",
        "px, py = np.random.choice(x, npts), np.random.choice(y, npts)\n",
        "\n",
        "fig, ax = plt.subplots(nrows=2, ncols=2)\n",
        "cmap = plt.get_cmap('Spectral')\n",
        "# Plot the model function and the randomly selected sample points\n",
        "ax[0,0].contourf(X, Y, T, cmap=cmap)\n",
        "ax[0,0].scatter(px, py, c='k', alpha=0.2, marker='.')\n",
        "ax[0,0].set_xlim(-1.0, 1.0)\n",
        "ax[0,0].set_ylim(-1.0, 1.0)\n",
        "ax[0,0].set_title('Sample points on f(X,Y)')\n",
        "\n",
        "# Interpolate using three different methods and plot\n",
        "Ta = griddata((px, py), f(px,py), (X, Y), method='nearest')\n",
        "ax[0,1].contourf(X, Y, Ta, cmap=cmap)\n",
        "ax[0,1].set_title(\"method = nearest\")\n",
        "\n",
        "Tb = griddata((px, py), f(px,py), (X, Y), method='linear')\n",
        "ax[1,0].contourf(X, Y, Tb, cmap=cmap)\n",
        "ax[1,0].set_title(\"method = linear\")\n",
        "\n",
        "Tc = griddata((px, py), f(px,py), (X, Y), method='cubic')\n",
        "ax[1,1].contourf(X, Y, Tc, cmap=cmap)\n",
        "ax[1,1].set_title(\"method = cubic\")\n",
        "\n",
        "plt.tight_layout()\n",
        "fig.savefig(\"./interpolation.png\",  overwrite=True, dpi=600)\n",
        "plt.show()"
      ]
    },
    {
      "cell_type": "code",
      "execution_count": null,
      "metadata": {
        "colab": {
          "base_uri": "https://localhost:8080/"
        },
        "id": "288wuY9bFHgh",
        "outputId": "c040af87-f95f-4a32-bbee-94e58fd761e4"
      },
      "outputs": [
        {
          "name": "stdout",
          "output_type": "stream",
          "text": [
            "  0.00       0.500000       0.500000\n",
            "  0.10       0.575000       0.575021\n",
            "  0.20       0.650062       0.650166\n",
            "  0.30       0.725312       0.725557\n",
            "  0.40       0.800870       0.801312\n",
            "  0.50       0.876852       0.877541\n",
            "  0.60       0.953369       0.954344\n",
            "  0.70       1.030519       1.031812\n",
            "  0.80       1.108391       1.110026\n",
            "  0.90       1.187063       1.189050\n",
            "  1.00       1.266597       1.268941\n",
            "  1.10       1.347045       1.349740\n",
            "  1.20       1.428443       1.431475\n",
            "  1.30       1.510818       1.514165\n",
            "  1.40       1.594180       1.597816\n",
            "  1.50       1.678533       1.682426\n",
            "  1.60       1.763867       1.767982\n",
            "  1.70       1.850165       1.854465\n",
            "  1.80       1.937404       1.941851\n",
            "  1.90       2.025552       2.030108\n",
            "  2.00       2.114573       2.119203\n"
          ]
        }
      ],
      "source": [
        "import numpy as np\n",
        "import math\n",
        "def f(t, x):\n",
        "   return(t**2+t+1)-(2*t+1)*x+x**2\n",
        "\n",
        "def exact(t):\n",
        "    return(t*np.exp(t)+t+1)/(np.exp(t)+1)\n",
        "\n",
        "NM=20\n",
        "t = [0]*(NM+1)\n",
        "x = [0]*(NM+1)\n",
        "m = 20\n",
        "h = 0.1\n",
        "t[0] = 0.0\n",
        "x[0] = 0.5\n",
        "\n",
        "for n in range(m):\n",
        "    t[n+1] = t[n]+h\n",
        "    x[n+1] = x[n]+h*f(t[n],x[n])\n",
        "\n",
        "for n in range(m+1):\n",
        "    print(f'{t[n]:6.2f}{x[n]:15.6f}{exact(t[n]):15.6f}')"
      ]
    },
    {
      "cell_type": "code",
      "execution_count": null,
      "metadata": {
        "colab": {
          "base_uri": "https://localhost:8080/"
        },
        "id": "zYp9lHAHFgT_",
        "outputId": "3b3a6945-a0fc-4cd1-c160-87ff2ad53189"
      },
      "outputs": [
        {
          "name": "stdout",
          "output_type": "stream",
          "text": [
            "  0.00       4.500000       4.500000      -6.500000      -6.500000\n",
            "  0.10       4.450000       4.443061      -6.250000      -6.247894\n",
            "  0.20       4.385000       4.374314      -5.994983      -5.992981\n",
            "  0.30       4.308497       4.296500      -5.737349      -5.737001\n",
            "  0.40       4.223417       4.211907      -5.478936      -5.481246\n",
            "  0.50       4.132179       4.122417      -5.221088      -5.226604\n",
            "  0.60       4.036743       4.029546      -4.964704      -4.973605\n",
            "  0.70       3.938661       3.934475      -4.710290      -4.722455\n",
            "  0.80       3.839121       3.838092      -4.458008      -4.473081\n",
            "  0.90       3.738986       3.741018      -4.207720      -4.225161\n",
            "  1.00       3.638834       3.643637      -3.959028      -3.978161\n",
            "  1.10       3.538990       3.546127      -3.711311      -3.731368\n",
            "  1.20       3.439555       3.448478      -3.463765      -3.483916\n",
            "  1.30       3.340441       3.350527      -3.215434      -3.234822\n",
            "  1.40       3.241396       3.251970      -2.965245      -2.983010\n",
            "  1.50       3.142026       3.152393      -2.712036      -2.727337\n",
            "  1.60       3.041825       3.051286      -2.454583      -2.466621\n",
            "  1.70       2.940194       2.948065      -2.191634      -2.199661\n",
            "  1.80       2.836463       2.842091      -1.921925      -1.925265\n",
            "  1.90       2.729909       2.732686      -1.644210      -1.642265\n",
            "  2.00       2.619778       2.619150      -1.357279      -1.349540\n"
          ]
        }
      ],
      "source": [
        "import numpy as np\n",
        "\n",
        "def fx(t, x, y):\n",
        "   return -3*x - 2*y + 2*t\n",
        "def fy(t, x, y):\n",
        "   return  2*x + y - np.sin(t)\n",
        "\n",
        "def exact_x(t):\n",
        "    return (-0.5+t)*np.exp(-t) + (-2*t+6) - np.cos(t)\n",
        "def exact_y(t):\n",
        "    return -t*np.exp(-t) + (4*t-8) + 1.5*np.cos(t) - 0.5*np.sin(t)\n",
        "\n",
        "NM=20\n",
        "t = [0]*(NM+1)\n",
        "x = [0]*(NM+1)\n",
        "y = [0]*(NM+1)\n",
        "m = 20\n",
        "h = 0.1\n",
        "t[0] =  0.0\n",
        "x[0] =  4.5\n",
        "y[0] = -6.5\n",
        "\n",
        "for n in range(m):\n",
        "    t[n+1] = t[n]+h\n",
        "    x[n+1] = x[n]+h*fx(t[n],x[n],y[n])\n",
        "    y[n+1] = y[n]+h*fy(t[n],x[n],y[n])\n",
        "\n",
        "for n in range(m+1):\n",
        "    print(f'{t[n]:6.2f}{x[n]:15.6f}{exact_x(t[n]):15.6f}{y[n]:15.6f}{exact_y(t[n]):15.6f}')"
      ]
    },
    {
      "cell_type": "code",
      "execution_count": null,
      "metadata": {
        "colab": {
          "base_uri": "https://localhost:8080/"
        },
        "id": "yRbK1WjhKncZ",
        "outputId": "061f0d0a-cda5-428e-a510-2612b77b2f6b"
      },
      "outputs": [
        {
          "name": "stdout",
          "output_type": "stream",
          "text": [
            "[[0.5       ]\n",
            " [0.57502078]\n",
            " [0.65016596]\n",
            " [0.72555744]\n",
            " [0.80131229]\n",
            " [0.87754061]\n",
            " [0.95434364]\n",
            " [1.03181219]\n",
            " [1.11002549]\n",
            " [1.18905047]\n",
            " [1.2689414 ]\n",
            " [1.3497399 ]\n",
            " [1.43147527]\n",
            " [1.51416508]\n",
            " [1.59781619]\n",
            " [1.68242563]\n",
            " [1.76798174]\n",
            " [1.85446541]\n",
            " [1.94185119]\n",
            " [2.03010857]\n",
            " [2.11920301]]\n"
          ]
        }
      ],
      "source": [
        "from scipy.integrate import odeint\n",
        "\n",
        "def f(x, t):\n",
        "   return(t**2+t+1)-(2*t+1)*x+x**2\n",
        "\n",
        "t=np.linspace(0.0,2.0,21)\n",
        "x_init=0.5\n",
        "x=odeint(f,x_init,t)\n",
        "print(x)"
      ]
    },
    {
      "cell_type": "code",
      "execution_count": null,
      "metadata": {
        "colab": {
          "base_uri": "https://localhost:8080/"
        },
        "id": "ZfANio3KHptv",
        "outputId": "11b2424b-2cf5-472e-bd87-c4713852481d"
      },
      "outputs": [
        {
          "name": "stdout",
          "output_type": "stream",
          "text": [
            "2.0\n"
          ]
        }
      ],
      "source": [
        "import numpy as np\n",
        "from scipy import integrate\n",
        "x=np.linspace(0,np.pi,4**10+1)\n",
        "f=np.sin(x)\n",
        "y=integrate.romb(f,x[1]-x[0])\n",
        "print(y)"
      ]
    },
    {
      "cell_type": "code",
      "execution_count": null,
      "metadata": {
        "colab": {
          "base_uri": "https://localhost:8080/"
        },
        "id": "b0uItIXjKkdO",
        "outputId": "6b79adf3-d6a6-4bda-b9e6-e49d442dfd82"
      },
      "outputs": [
        {
          "name": "stdout",
          "output_type": "stream",
          "text": [
            "1.999999483788026\n"
          ]
        }
      ],
      "source": [
        "import numpy as np\n",
        "from scipy import integrate\n",
        "x=np.linspace(0,np.pi,50)\n",
        "f=np.sin(x)\n",
        "y=integrate.simps(f,x)\n",
        "print(y)"
      ]
    },
    {
      "cell_type": "code",
      "execution_count": null,
      "metadata": {
        "id": "H_MTnoMfh5Vq"
      },
      "outputs": [],
      "source": []
    },
    {
      "cell_type": "code",
      "execution_count": null,
      "metadata": {
        "colab": {
          "base_uri": "https://localhost:8080/"
        },
        "id": "wPOMyCQgK9ze",
        "outputId": "3f268a52-b018-4cd1-8957-182d36abd360"
      },
      "outputs": [
        {
          "name": "stdout",
          "output_type": "stream",
          "text": [
            "[0.0020539  0.00820717 0.01843453 0.03269393 0.0509268  0.07305821\n",
            " 0.09899721 0.12863721 0.16185643 0.19851835 0.23847232 0.28155416\n",
            " 0.32758685 0.37638122 0.42773676 0.48144244 0.53727759 0.59501275\n",
            " 0.65441068 0.71522731 0.77721272 0.8401122  0.90366729 0.96761683\n",
            " 1.03169802 1.09564756 1.15920264 1.22210213 1.28408754 1.34490417\n",
            " 1.4043021  1.46203726 1.5178724  1.57157809 1.62293363 1.671728\n",
            " 1.71776069 1.76084253 1.8007965  1.83745842 1.87067764 1.90031764\n",
            " 1.92625664 1.94838805 1.96662092 1.98088032 1.99110768 1.99726095\n",
            " 1.99931485]\n"
          ]
        }
      ],
      "source": [
        "from scipy import integrate\n",
        "x=np.linspace(0,np.pi,50)\n",
        "f=np.sin(x)\n",
        "y=integrate.cumtrapz(f,x)\n",
        "print(y)"
      ]
    },
    {
      "cell_type": "code",
      "execution_count": null,
      "metadata": {
        "colab": {
          "base_uri": "https://localhost:8080/"
        },
        "id": "mJEu78y_o3_o",
        "outputId": "aefaafda-60ab-4ae2-fec2-d14e7d969697"
      },
      "outputs": [
        {
          "name": "stdout",
          "output_type": "stream",
          "text": [
            "0.0005548929180317165\n",
            "0.0009880534217507875\n",
            "0.001982471128379479\n",
            "0.002705494791073342\n"
          ]
        }
      ],
      "source": [
        "import numpy as np\n",
        "from scipy import integrate\n",
        "x=np.linspace(0,1,50)\n",
        "f1=0.0065*np.exp(-11.72*x)\n",
        "f2=0.0065*np.exp(-6.57*x)\n",
        "f3=0.0071*np.exp(-3.47*x)\n",
        "f4=0.0073*np.exp(-2.47*x)\n",
        "y1=integrate.simps(f1,x)\n",
        "y2=integrate.simps(f2,x)\n",
        "y3=integrate.simps(f3,x)\n",
        "y4=integrate.simps(f4,x)\n",
        "print(y1)\n",
        "print(y2)\n",
        "print(y3)\n",
        "print(y4)"
      ]
    },
    {
      "cell_type": "code",
      "execution_count": null,
      "metadata": {
        "colab": {
          "base_uri": "https://localhost:8080/"
        },
        "id": "HFE4s8JYwsQR",
        "outputId": "564bf02e-a313-4c34-8a17-a5ebb1bb622f"
      },
      "outputs": [
        {
          "name": "stdout",
          "output_type": "stream",
          "text": [
            "0 [2.22222222 1.44444444 1.87301587 3.32804233]\n",
            "1 [1.32333921 1.72141387 2.77460737 3.82454823]\n",
            "2 [1.10644629 1.93897174 2.94764089 3.95463454]\n",
            "3 [1.02442012 1.98647588 2.98666299 3.98923029]\n",
            "4 [1.00568389 1.99659099 2.99676092 3.99740482]\n",
            "5 [1.00140581 1.99916318 2.99922026 3.99936631]\n",
            "6 [1.00034301 1.99979852 2.99981038 3.99984605]\n",
            "7 [1.00008295 1.9999511  2.99995389 3.99996266]\n",
            "8 [1.00002014 1.99998811 2.99998881 3.99999093]\n",
            "9 [1.00000489 1.99999711 2.99999728 3.9999978 ]\n",
            "10 [1.00000119 1.9999993  2.99999934 3.99999947]\n",
            "11 [1.00000029 1.99999983 2.99999984 3.99999987]\n",
            "12 [1.00000007 1.99999996 2.99999996 3.99999997]\n",
            "13 [1.00000002 1.99999999 2.99999999 3.99999999]\n"
          ]
        }
      ],
      "source": [
        "import numpy as np\n",
        "EPS=1e-7\n",
        "IMAX=50\n",
        "N=4\n",
        "A=np.zeros((N+1,N+1))\n",
        "A[1][1]= 9;A[1][2]= 2;A[1][3]= 1;A[1][4]= 1\n",
        "A[2][1]= 2;A[2][2]= 8;A[2][3]=-2;A[2][4]= 1\n",
        "A[3][1]=-1;A[3][2]=-2;A[3][3]= 7;A[3][4]=-2\n",
        "A[4][1]= 1;A[4][2]=-1;A[4][3]=-2;A[4][4]= 6\n",
        "B=np.zeros(N+1)\n",
        "B[1]=20;B[2]=16;B[3]=8;B[4]=17\n",
        "\n",
        "X=np.zeros(N+1)\n",
        "XN=np.zeros(N+1)\n",
        "\n",
        "for i in range(IMAX):\n",
        "    err=0.0\n",
        "    for j in range(1,N+1):\n",
        "        XN[j]=B[j]\n",
        "        for k in range(1,j):\n",
        "            XN[j]=XN[j]-A[j][k]*XN[k]\n",
        "        for k in range(j+1,N+1):\n",
        "            XN[j]=XN[j]-A[j][k]*XN[k]\n",
        "        XN[j]=XN[j]/A[j][j]\n",
        "        err=err+abs(XN[j]-X[j])\n",
        "    if err<EPS:\n",
        "        break\n",
        "    else:\n",
        "        for j in range(1,N+1):\n",
        "            X[j]=XN[j]\n",
        "    print(i, X[1:N+1])"
      ]
    },
    {
      "cell_type": "code",
      "execution_count": null,
      "metadata": {
        "colab": {
          "base_uri": "https://localhost:8080/"
        },
        "id": "9NuaJWC01ASC",
        "outputId": "d934c2bb-e45a-44d1-c69c-545401efdaeb"
      },
      "outputs": [
        {
          "name": "stdout",
          "output_type": "stream",
          "text": [
            "[30. 10. 20.  5. 10.]\n"
          ]
        }
      ],
      "source": [
        "import numpy as np\n",
        "from scipy import linalg\n",
        "A = np.array([[ 1, 9, 3, 2, 1],\n",
        "              [10, 2, 2, 8, 5],\n",
        "              [ 1, 0, 5, 2, 1],\n",
        "              [ 2, 7, 1, 2, 9],\n",
        "              [ 3, 1, 2,20, 6]])\n",
        "b = np.array([200,450,150,250,300])\n",
        "x = np.linalg.solve(A,b)\n",
        "print(x)"
      ]
    },
    {
      "cell_type": "code",
      "execution_count": null,
      "metadata": {
        "colab": {
          "base_uri": "https://localhost:8080/"
        },
        "id": "Hu2LKg8Wk3z3",
        "outputId": "f031586f-92e5-44d8-bd32-6342319121c1"
      },
      "outputs": [
        {
          "name": "stdout",
          "output_type": "stream",
          "text": [
            "[7. 9. 8.]\n"
          ]
        }
      ],
      "source": [
        "import numpy as np\n",
        "import numpy.linalg as LA\n",
        "A = np.array([[11, 7, -5],\n",
        "              [ 0,10,-1],\n",
        "              [ 2, 8, 3]])\n",
        "w,v=LA.eig(A)\n",
        "print(w)"
      ]
    },
    {
      "cell_type": "code",
      "execution_count": null,
      "metadata": {
        "colab": {
          "base_uri": "https://localhost:8080/"
        },
        "id": "D8dOU9m8vidk",
        "outputId": "d2d787ee-ceda-4dba-8cfa-b78ec6ebeeeb"
      },
      "outputs": [
        {
          "name": "stdout",
          "output_type": "stream",
          "text": [
            "[3. 2.]\n",
            "[[0.89442719 0.70710678]\n",
            " [0.4472136  0.70710678]]\n"
          ]
        }
      ],
      "source": [
        "import numpy as np\n",
        "import numpy.linalg as LA\n",
        "A = np.array([[4, -2],\n",
        "              [1, 1]])\n",
        "w,v=LA.eig(A)\n",
        "print(w)\n",
        "print(v)"
      ]
    },
    {
      "cell_type": "code",
      "execution_count": null,
      "metadata": {
        "colab": {
          "base_uri": "https://localhost:8080/"
        },
        "id": "xR4nsNU7fDck",
        "outputId": "2a972004-5276-4bc9-b641-d7ad60ac0b7d"
      },
      "outputs": [
        {
          "name": "stdout",
          "output_type": "stream",
          "text": [
            "[0.5 1. ]\n",
            "[[-0.70710678 -0.5547002 ]\n",
            " [ 0.70710678 -0.83205029]]\n"
          ]
        }
      ],
      "source": [
        "import numpy as np\n",
        "import numpy.linalg as LA\n",
        "A = np.array([[0.7,0.2],\n",
        "              [0.3,0.8]])\n",
        "w,v=LA.eig(A)\n",
        "print(w)\n",
        "print(v)"
      ]
    },
    {
      "cell_type": "code",
      "execution_count": null,
      "metadata": {
        "colab": {
          "base_uri": "https://localhost:8080/"
        },
        "id": "kp9qPgvLc7ZR",
        "outputId": "d265cbb1-950a-4f3c-9c31-b9f8c1fef102"
      },
      "outputs": [
        {
          "name": "stdout",
          "output_type": "stream",
          "text": [
            "[ 20. -40.]\n"
          ]
        }
      ],
      "source": [
        "import numpy as np\n",
        "from scipy import linalg\n",
        "A = np.array([[ 2,-1],\n",
        "             [ 3, 1]])\n",
        "b = np.array([80,20])\n",
        "x = np.linalg.solve(A,b)\n",
        "print(x)"
      ]
    },
    {
      "cell_type": "code",
      "execution_count": null,
      "metadata": {
        "colab": {
          "base_uri": "https://localhost:8080/"
        },
        "id": "uYyxN4THQcfT",
        "outputId": "7c96cb9f-7235-4afa-98ad-b32ad702d536"
      },
      "outputs": [
        {
          "name": "stdout",
          "output_type": "stream",
          "text": [
            "1 [[60.]\n",
            " [40.]]\n",
            "2 [[50.]\n",
            " [50.]]\n",
            "3 [[45.]\n",
            " [55.]]\n",
            "4 [[42.5]\n",
            " [57.5]]\n",
            "5 [[41.25]\n",
            " [58.75]]\n",
            "6 [[40.625]\n",
            " [59.375]]\n",
            "7 [[40.3125]\n",
            " [59.6875]]\n",
            "8 [[40.15625]\n",
            " [59.84375]]\n",
            "9 [[40.078125]\n",
            " [59.921875]]\n",
            "10 [[40.0390625]\n",
            " [59.9609375]]\n"
          ]
        }
      ],
      "source": [
        "import numpy as np\n",
        "import math\n",
        "n=10\n",
        "l1=1\n",
        "l2=0.5\n",
        "a=20\n",
        "b=-40\n",
        "x1=np.array([[2],\n",
        "            [3]])\n",
        "x2=np.array([[-1],\n",
        "            [1]])\n",
        "for i in range(1,n+1):\n",
        "    y=a*np.power(l1,i)*x1+b*np.power(l2,i)*x2\n",
        "    print(i,y)"
      ]
    },
    {
      "cell_type": "code",
      "execution_count": null,
      "metadata": {
        "colab": {
          "base_uri": "https://localhost:8080/"
        },
        "id": "yhs84iDJTZVz",
        "outputId": "0cb0fc97-2f49-41e8-d68a-5183e26581eb"
      },
      "outputs": [
        {
          "name": "stdout",
          "output_type": "stream",
          "text": [
            "1 11.971428571428572\n",
            "2 10.350359879266312\n",
            "3 9.592671154608746\n",
            "4 9.163959733696956\n",
            "5 8.895402984932401\n",
            "6 8.718297072733135\n",
            "7 8.600184628949119\n",
            "8 8.52429520644787\n",
            "9 8.481474551759748\n",
            "10 8.466440028114759\n",
            "11 8.475717105269828\n",
            "12 8.50630491242062\n",
            "13 8.554767634801422\n",
            "14 8.616742173312714\n",
            "15 8.68694435644759\n",
            "16 8.759670549235222\n",
            "17 8.829599980330395\n",
            "18 8.892562127842416\n",
            "19 8.945973340351868\n",
            "20 8.988842863746791\n",
            "21 9.02145149946614\n",
            "22 9.044895566135969\n",
            "23 9.060659609457666\n",
            "24 9.070300964650393\n",
            "25 9.075259153362056\n",
            "26 9.07676577763439\n",
            "27 9.075820829661412\n",
            "28 9.073206034842215\n",
            "29 9.0695148407661\n",
            "30 9.065186878277556\n",
            "31 9.060540593320207\n",
            "32 9.055801381864212\n",
            "33 9.051124563053945\n",
            "34 9.046613499243545\n",
            "35 9.042333558425264\n",
            "36 9.038322697136028\n",
            "37 9.034599384372035\n",
            "38 9.031168477575191\n",
            "39 9.028025543999872\n",
            "40 9.025160013843344\n",
            "41 9.02255746193403\n",
            "42 9.020201243032293\n",
            "43 9.018073649924201\n",
            "44 9.016156720737044\n",
            "45 9.01443278957081\n",
            "46 9.012884850268595\n",
            "47 9.01149678501928\n",
            "48 9.01025349598545\n",
            "49 9.009140968115164\n",
            "50 9.008146283846731\n",
            "51 9.007257604888158\n",
            "52 9.006464132154436\n",
            "53 9.005756051907785\n",
            "54 9.005124473896206\n",
            "55 9.004561365621568\n",
            "56 9.00405948563964\n",
            "57 9.003612317889914\n",
            "58 9.003214008389431\n",
            "59 9.002859305140754\n",
            "60 9.002543501753705\n",
            "61 9.002262385029157\n",
            "62 9.002012186575614\n",
            "63 9.001789538406122\n",
            "64 9.001591432380199\n",
            "65 9.001415183302043\n",
            "66 9.001258395454311\n",
            "67 9.001118932330282\n",
            "68 9.000994889321884\n",
            "69 9.000884569123135\n",
            "70 9.000786459616204\n",
            "71 9.000699214018102\n",
            "72 9.000621633079016\n",
            "73 9.000552649137374\n",
            "74 9.000491311851334\n",
            "75 9.000436775440717\n",
            "76 9.000388287287572\n",
            "77 9.000345177756966\n",
            "78 9.000306851112304\n",
            "79 9.000272777411283\n",
            "80 9.000242485279706\n",
            "81 9.000215555470296\n",
            "82 9.000191615123235\n",
            "83 9.00017033265327\n",
            "84 9.000151413196223\n",
            "85 9.000134594554568\n",
            "86 9.000119643588057\n",
            "87 9.000106353001126\n",
            "88 9.000094538483863\n",
            "89 9.000084036167998\n",
            "90 9.000074700363465\n"
          ]
        }
      ],
      "source": [
        "import numpy as np\n",
        "import math\n",
        "NM=3\n",
        "y=[0]*NM\n",
        "EPS=1.0E-6\n",
        "n=3\n",
        "a=np.array([[11, 7, -5],\n",
        "           [ 0,10, -1],\n",
        "           [ 2, 8, 3]])\n",
        "x=[1.0]*n\n",
        "kmax=200\n",
        "lambda1=10000\n",
        "lambda2=10000\n",
        "for k in range(1,kmax+1):\n",
        "    error=0.0\n",
        "    for i in range(n):\n",
        "        y[i]=0.0\n",
        "        for j in range(n):\n",
        "            y[i]+=a[i][j]*x[j]\n",
        "    sum1=0.0\n",
        "    sum2=0.0\n",
        "    for i in range(n):\n",
        "        sum1+=y[i]*y[i]\n",
        "        sum2+=y[i]*x[i]\n",
        "    lambda1=sum1/sum2\n",
        "    for i in range(n):\n",
        "        x[i]=y[i]/math.sqrt(sum1)\n",
        "    error=abs(lambda1-lambda2)/abs(lambda2)\n",
        "    lambda2=lambda1\n",
        "    if error<EPS:\n",
        "       break;\n",
        "    print(k,lambda1)"
      ]
    },
    {
      "cell_type": "code",
      "execution_count": null,
      "metadata": {
        "colab": {
          "base_uri": "https://localhost:8080/",
          "height": 603
        },
        "id": "B_fxdeNJdKkv",
        "outputId": "458f53e0-6a44-47e2-aa9d-2287e2271129"
      },
      "outputs": [
        {
          "name": "stdout",
          "output_type": "stream",
          "text": [
            "Mounted at /content/drive\n",
            "        Precipitation\n",
            "M-Y                  \n",
            "26-Oct          103.5\n",
            "26-Nov           21.0\n",
            "26-Dec           52.6\n",
            "27-Jan           15.4\n",
            "27-Feb           12.6\n",
            "...               ...\n",
            "20-Aug           72.5\n",
            "20-Sep          191.5\n",
            "20-Oct           63.0\n",
            "20-Nov            7.0\n",
            "20-Dec           21.5\n",
            "\n",
            "[1131 rows x 1 columns]\n",
            "102.70141467727674 82.91484766070964\n"
          ]
        },
        {
          "data": {
            "image/png": "[encoded data removed]",
            "text/plain": [
              "<Figure size 432x288 with 1 Axes>"
            ]
          },
          "metadata": {
            "needs_background": "light"
          },
          "output_type": "display_data"
        }
      ],
      "source": [
        "import pandas as pd\n",
        "import numpy as np\n",
        "import matplotlib.pyplot as plt\n",
        "from scipy import stats\n",
        "from scipy.stats import chisquare\n",
        "\n",
        "### Import data ###\n",
        "from google.colab import drive\n",
        "drive.mount('/content/drive')\n",
        "df = pd.read_csv('/content/drive/MyDrive/SENDAI_Rainfalls.csv', dtype = float, index_col=0, parse_dates=True)\n",
        "print(df)\n",
        "\n",
        "### Histogram of Raw Data ###\n",
        "#RF = df['Precipitation'].hist(bins=50, edgecolor='turquoise', color='paleturquoise', zorder=3)\n",
        "\n",
        "### Statistics ###\n",
        "RF_max          = df['Precipitation'].max()\n",
        "RF_mean         = df['Precipitation'].mean()\n",
        "RF_deviation    = df['Precipitation'].std()\n",
        "print(RF_mean, RF_deviation)\n",
        "\n",
        "### Probability Density Function ###\n",
        "axis_data = np.arange(0, RF_max, 0.1)\n",
        "distnormal = stats.norm.pdf(axis_data, loc = RF_mean, scale = RF_deviation)                     #Normal Distribution Syntax: https://docs.scipy.org/doc/scipy/reference/generated/scipy.stats.norm.html\n",
        "distlogpearson3 = stats.pearson3.pdf(axis_data, skew = 1.0, loc = RF_mean, scale = RF_deviation)  #Log Pearson Type 3 Syntax: https://docs.scipy.org/doc/scipy/reference/generated/scipy.stats.pearson3.html\n",
        "distweibull = stats.dweibull.pdf(axis_data, c = 1, loc = RF_mean, scale = RF_deviation)         #Weibull Syntax: https://docs.scipy.org/doc/scipy/reference/generated/scipy.stats.dweibull.html\n",
        "distgumbel = stats.gumbel_r.pdf(axis_data, loc = RF_mean, scale = RF_deviation)                 #Gumbel Syntax: https://docs.scipy.org/doc/scipy/reference/generated/scipy.stats.gumbel_r.html\n",
        "\n",
        "### Find Return period: Percent point function ###\n",
        "### For example 100-Year: Tr = 100; pr = 1/100 = 0.010 ###\n",
        "p100y_norm = stats.norm.ppf([0.990], loc = RF_mean, scale = RF_deviation)\n",
        "p100y_logpearson3 = stats.pearson3.ppf([0.990], skew = 1, loc = RF_mean, scale = RF_deviation)\n",
        "p100y_weibull = stats.dweibull.ppf([0.990], c = 1, loc = RF_mean, scale = RF_deviation)\n",
        "p100y_gumbel = stats.gumbel_r.ppf([0.990], loc = RF_mean, scale = RF_deviation)\n",
        "\n",
        "### Find Return period: Percent point function ###\n",
        "### For example 100-Year: Tr = 100; pr = 1/100 = 0.010 ###\n",
        "p100y_norm = stats.norm.ppf([0.990], loc = RF_mean, scale = RF_deviation)\n",
        "p100y_logpearson3 = stats.pearson3.ppf([0.990], skew = 1, loc = RF_mean, scale = RF_deviation)\n",
        "p100y_weibull = stats.dweibull.ppf([0.990], c = 1, loc = RF_mean, scale = RF_deviation)\n",
        "p100y_gumbel = stats.gumbel_r.ppf([0.990], loc = RF_mean, scale = RF_deviation)\n",
        "\n",
        "############ Plotting Preferences ############\n",
        "fig, ax = plt.subplots()\n",
        "\n",
        "### Plot: Probability Density Function ###\n",
        "df['Precipitation'].hist(bins = 50, density=True, edgecolor = 'steelblue', color = 'cornflowerblue')\n",
        "plt.plot(axis_data, distnormal, color = 'tomato', linewidth = 1, linestyle = ':',label = 'Normal Distribution')\n",
        "plt.plot(axis_data, distlogpearson3, color = 'darkorange', linewidth = 1, linestyle = '--', label = 'Log Pearson Type 3 Distribution')\n",
        "plt.plot(axis_data, distweibull, color = 'salmon', linewidth = 1, linestyle = '-', label = 'Weibull Distribution')\n",
        "plt.plot(axis_data, distgumbel, color = 'gold', linewidth = 1, linestyle = '-.', label = 'Gumbel Distribution')\n",
        "\n",
        "### Label: Return period ###\n",
        "plt.text(0.5*RF_max, 0.0033, \"100-Year Return Period Pecipitation\" , fontsize='small', color = 'dimgrey', weight='bold')\n",
        "text_norm = \"p100y_norm = %.2f mm\" %float(p100y_norm)\n",
        "plt.text(0.5*RF_max, 0.0030, text_norm, fontsize='small', color = 'dimgrey')\n",
        "text_logpearson3 = \"p100y_logpearson3 = %.2f mm\" %float(p100y_logpearson3)\n",
        "plt.text(0.5*RF_max, 0.0027, text_logpearson3, fontsize='small', color = 'dimgrey')\n",
        "text_weibull = \"p100y_weibull = %.2f mm\" %float(p100y_weibull)\n",
        "plt.text(0.5*RF_max, 0.0024, text_weibull, fontsize='small', color = 'dimgrey')\n",
        "text_gumbel = \"p100y_gumbel = %.2f mm\" %float(p100y_gumbel)\n",
        "plt.text(0.5*RF_max, 0.0021, text_gumbel, fontsize='small', color = 'dimgrey')\n",
        "\n",
        "plt.xlim(0, RF_max)\n",
        "plt.title('Probability Density Function (PDF)')\n",
        "plt.xlabel('Precipitation (mm)')\n",
        "plt.ylabel('Density')\n",
        "plt.legend(loc='upper right')\n",
        "\n",
        "plt.tight_layout()\n",
        "plt.grid(color='grey', linestyle='--', linewidth=0.5, alpha=0.5, zorder=0)\n",
        "fig.savefig(\"./PDF_Rainfalls.png\",  overwrite=True, dpi=600)\n",
        "plt.show()"
      ]
    },
    {
      "cell_type": "code",
      "execution_count": null,
      "metadata": {
        "colab": {
          "base_uri": "https://localhost:8080/",
          "height": 567
        },
        "id": "s7_p3IGHKtul",
        "outputId": "197bf24d-dfda-4f06-b3b6-a23220517e11"
      },
      "outputs": [
        {
          "name": "stdout",
          "output_type": "stream",
          "text": [
            "Drive already mounted at /content/drive; to attempt to forcibly remount, call drive.mount(\"/content/drive\", force_remount=True).\n",
            "   Depth  minor  moderate  major  complete\n",
            "0   1.05    0.0       0.0    0.0       0.0\n",
            "1   1.60    3.0       2.0    0.0       1.0\n",
            "2   1.95    5.0       1.0    0.0       0.0\n",
            "3   2.28    8.0       4.0    1.0       0.0\n",
            "4   2.67   10.0       5.0    2.0       0.0\n",
            "5   3.00   11.0       6.0    3.0       1.0\n",
            "6   3.20   13.0      10.0    2.0       1.0\n",
            "7   3.40   14.0      12.0    5.0       4.0\n",
            "8   3.70   14.0      13.0    6.0       4.0\n",
            "9   4.03   15.0      14.0    8.0       6.0\n",
            "2.410614982932722 [0.69731526]\n",
            "2.8694560072241675 [0.7685559]\n",
            "3.942009176683288 [1.03264034]\n",
            "4.136173448629824 [0.94603334]\n"
          ]
        },
        {
          "data": {
            "image/png": "[encoded data removed]",
            "text/plain": [
              "<Figure size 432x288 with 1 Axes>"
            ]
          },
          "metadata": {
            "needs_background": "light"
          },
          "output_type": "display_data"
        }
      ],
      "source": [
        "import numpy as np\n",
        "import pandas as pd\n",
        "import matplotlib.pyplot as plt\n",
        "from scipy.stats import norm\n",
        "from sklearn.linear_model import LinearRegression\n",
        "\n",
        "### Import data ###\n",
        "from google.colab import drive\n",
        "drive.mount('/content/drive')\n",
        "df = pd.read_csv('/content/drive/MyDrive/Collapse_Table.csv', dtype = float, parse_dates=True)\n",
        "print(df)\n",
        "\n",
        "#Finding the probability of the occurrance and Percent point function (PPF)\n",
        "def ppf(index):\n",
        "    max         = 15 #maximum chance of occurance\n",
        "    prob        = df[index]/max #probability\n",
        "    prob_re     = prob.replace([0,1], [0.01, 0.99]) #PPF cannot be neither 0 or 1, replace with 0.01 and 0.99\n",
        "    #Find Percent point function (inverse of cdf, percentiles)\n",
        "    ppf_prob = norm.ppf(prob_re) #inverse of the CDF of the standard normal distribution\n",
        "    return ppf_prob\n",
        "\n",
        "#print(ppf('minor'), ppf('moderate'), ppf('major'), ppf('complete'))\n",
        "\n",
        "#Fitting depth and inverse of the CDF\n",
        "def reg(index):\n",
        "    #Y = aX + b\n",
        "    depth = df['Depth'].to_numpy()\n",
        "    norm = ppf(index)\n",
        "    model = LinearRegression().fit(norm.reshape((-1, 1)), depth)\n",
        "\n",
        "    A = model.intercept_\n",
        "    B = model.coef_\n",
        "    return A, B\n",
        "\n",
        "#print(reg('minor'), reg('moderate'), reg('major'), reg('complete'))\n",
        "\n",
        "#Fitting Parameters; Y = aX + b\n",
        "minor_a, minor_b        = reg('minor')\n",
        "moderate_a, moderate_b  = reg('moderate')\n",
        "major_a, major_b        = reg('major')\n",
        "complete_a, complete_b  = reg('complete')\n",
        "#print(minor_a, minor_b)\n",
        "#print(moderate_a, moderate_b)\n",
        "#print(major_a, major_b)\n",
        "#print(complete_a, complete_b)\n",
        "\n",
        "#Plot Preferences\n",
        "#plot CDF\n",
        "fig, ax = plt.subplots(1, 1)\n",
        "\n",
        "x = np.linspace(0, 8, 100)\n",
        "\n",
        "ax.plot(x, norm.cdf(x, minor_a, minor_b), 'b-', lw=2, alpha=0.6, label='minor')\n",
        "ax.plot(x, norm.cdf(x, moderate_a, moderate_b), 'g-', lw=2, alpha=0.6, label='moderate')\n",
        "ax.plot(x, norm.cdf(x, major_a, major_b), 'y-', lw=2, alpha=0.6, label='major')\n",
        "ax.plot(x, norm.cdf(x, complete_a, complete_b), 'r-', lw=2, alpha=0.6, label='complete')\n",
        "\n",
        "#plot scatters\n",
        "depth = df['Depth'].to_numpy()\n",
        "def prob_plot(index):\n",
        "    max         = 15 #maximum chance of occurance\n",
        "    prob        = df[index]/max #probability\n",
        "    prob_re     = prob.replace([0,1], [0.01, 0.99])\n",
        "    return prob_re\n",
        "ax.scatter(depth, prob_plot('minor'), s = 2.0 , c = 'blue', marker = '*')\n",
        "ax.scatter(depth, prob_plot('moderate'), s = 2.0 , c = 'green', marker = '*')\n",
        "ax.scatter(depth, prob_plot('major'), s = 2.0 , c = 'orange', marker = '*')\n",
        "ax.scatter(depth, prob_plot('complete'), s = 2.0 , c = 'red', marker = '*')\n",
        "\n",
        "ax.legend()\n",
        "plt.xlabel('Inundation depth (m)')\n",
        "plt.ylabel('Probability of occurrance')\n",
        "\n",
        "fig.savefig(\"./Output.png\", dpi=600)\n",
        "plt.show()"
      ]
    },
    {
      "cell_type": "code",
      "execution_count": null,
      "metadata": {
        "colab": {
          "base_uri": "https://localhost:8080/",
          "height": 746
        },
        "id": "nI7YW8NRTi47",
        "outputId": "86c25ed3-9ae8-43fc-88a8-d0ff53f0c4f3"
      },
      "outputs": [
        {
          "name": "stdout",
          "output_type": "stream",
          "text": [
            "Collecting rasterio\n",
            "  Downloading rasterio-1.2.10-cp37-cp37m-manylinux1_x86_64.whl (19.3 MB)\n",
            "\u001b[K     |████████████████████████████████| 19.3 MB 5.7 MB/s \n",
            "\u001b[?25hCollecting affine\n",
            "  Downloading affine-2.3.0-py2.py3-none-any.whl (15 kB)\n",
            "Requirement already satisfied: click>=4.0 in /usr/local/lib/python3.7/dist-packages (from rasterio) (7.1.2)\n",
            "Collecting cligj>=0.5\n",
            "  Downloading cligj-0.7.2-py3-none-any.whl (7.1 kB)\n",
            "Requirement already satisfied: numpy in /usr/local/lib/python3.7/dist-packages (from rasterio) (1.19.5)\n",
            "Requirement already satisfied: attrs in /usr/local/lib/python3.7/dist-packages (from rasterio) (21.4.0)\n",
            "Requirement already satisfied: setuptools in /usr/local/lib/python3.7/dist-packages (from rasterio) (57.4.0)\n",
            "Collecting click-plugins\n",
            "  Downloading click_plugins-1.1.1-py2.py3-none-any.whl (7.5 kB)\n",
            "Requirement already satisfied: certifi in /usr/local/lib/python3.7/dist-packages (from rasterio) (2021.10.8)\n",
            "Collecting snuggs>=1.4.1\n",
            "  Downloading snuggs-1.4.7-py3-none-any.whl (5.4 kB)\n",
            "Requirement already satisfied: pyparsing>=2.1.6 in /usr/local/lib/python3.7/dist-packages (from snuggs>=1.4.1->rasterio) (3.0.6)\n",
            "Installing collected packages: snuggs, cligj, click-plugins, affine, rasterio\n",
            "Successfully installed affine-2.3.0 click-plugins-1.1.1 cligj-0.7.2 rasterio-1.2.10 snuggs-1.4.7\n"
          ]
        },
        {
          "ename": "MessageError",
          "evalue": "ignored",
          "output_type": "error",
          "traceback": [
            "\u001b[0;31m---------------------------------------------------------------------------\u001b[0m",
            "\u001b[0;31mMessageError\u001b[0m                              Traceback (most recent call last)",
            "\u001b[0;32m<ipython-input-1-b98e83ab81cf>\u001b[0m in \u001b[0;36m<module>\u001b[0;34m()\u001b[0m\n\u001b[1;32m      8\u001b[0m \u001b[0;31m#set the path to the folder containing Sentinel-2A images\u001b[0m\u001b[0;34m\u001b[0m\u001b[0;34m\u001b[0m\u001b[0;34m\u001b[0m\u001b[0m\n\u001b[1;32m      9\u001b[0m \u001b[0;32mfrom\u001b[0m \u001b[0mgoogle\u001b[0m\u001b[0;34m.\u001b[0m\u001b[0mcolab\u001b[0m \u001b[0;32mimport\u001b[0m \u001b[0mdrive\u001b[0m\u001b[0;34m\u001b[0m\u001b[0;34m\u001b[0m\u001b[0m\n\u001b[0;32m---> 10\u001b[0;31m \u001b[0mdrive\u001b[0m\u001b[0;34m.\u001b[0m\u001b[0mmount\u001b[0m\u001b[0;34m(\u001b[0m\u001b[0;34m'/content/drive'\u001b[0m\u001b[0;34m)\u001b[0m\u001b[0;34m\u001b[0m\u001b[0;34m\u001b[0m\u001b[0m\n\u001b[0m\u001b[1;32m     11\u001b[0m \u001b[0mpathB03\u001b[0m \u001b[0;34m=\u001b[0m \u001b[0;34m'/content/drive/MyDrive/T19LCG_20200827T145731_B03_10m.jp2'\u001b[0m\u001b[0;34m\u001b[0m\u001b[0;34m\u001b[0m\u001b[0m\n\u001b[1;32m     12\u001b[0m \u001b[0mpathB04\u001b[0m \u001b[0;34m=\u001b[0m \u001b[0;34m'/content/drive/MyDrive/T19LCG_20200827T145731_B04_10m.jp2'\u001b[0m\u001b[0;34m\u001b[0m\u001b[0;34m\u001b[0m\u001b[0m\n",
            "\u001b[0;32m/usr/local/lib/python3.7/dist-packages/google/colab/drive.py\u001b[0m in \u001b[0;36mmount\u001b[0;34m(mountpoint, force_remount, timeout_ms, use_metadata_server)\u001b[0m\n\u001b[1;32m    111\u001b[0m       \u001b[0mtimeout_ms\u001b[0m\u001b[0;34m=\u001b[0m\u001b[0mtimeout_ms\u001b[0m\u001b[0;34m,\u001b[0m\u001b[0;34m\u001b[0m\u001b[0;34m\u001b[0m\u001b[0m\n\u001b[1;32m    112\u001b[0m       \u001b[0muse_metadata_server\u001b[0m\u001b[0;34m=\u001b[0m\u001b[0muse_metadata_server\u001b[0m\u001b[0;34m,\u001b[0m\u001b[0;34m\u001b[0m\u001b[0;34m\u001b[0m\u001b[0m\n\u001b[0;32m--> 113\u001b[0;31m       ephemeral=ephemeral)\n\u001b[0m\u001b[1;32m    114\u001b[0m \u001b[0;34m\u001b[0m\u001b[0m\n\u001b[1;32m    115\u001b[0m \u001b[0;34m\u001b[0m\u001b[0m\n",
            "\u001b[0;32m/usr/local/lib/python3.7/dist-packages/google/colab/drive.py\u001b[0m in \u001b[0;36m_mount\u001b[0;34m(mountpoint, force_remount, timeout_ms, use_metadata_server, ephemeral)\u001b[0m\n\u001b[1;32m    134\u001b[0m   \u001b[0;32mif\u001b[0m \u001b[0mephemeral\u001b[0m\u001b[0;34m:\u001b[0m\u001b[0;34m\u001b[0m\u001b[0;34m\u001b[0m\u001b[0m\n\u001b[1;32m    135\u001b[0m     _message.blocking_request(\n\u001b[0;32m--> 136\u001b[0;31m         'request_auth', request={'authType': 'dfs_ephemeral'}, timeout_sec=None)\n\u001b[0m\u001b[1;32m    137\u001b[0m \u001b[0;34m\u001b[0m\u001b[0m\n\u001b[1;32m    138\u001b[0m   \u001b[0mmountpoint\u001b[0m \u001b[0;34m=\u001b[0m \u001b[0m_os\u001b[0m\u001b[0;34m.\u001b[0m\u001b[0mpath\u001b[0m\u001b[0;34m.\u001b[0m\u001b[0mexpanduser\u001b[0m\u001b[0;34m(\u001b[0m\u001b[0mmountpoint\u001b[0m\u001b[0;34m)\u001b[0m\u001b[0;34m\u001b[0m\u001b[0;34m\u001b[0m\u001b[0m\n",
            "\u001b[0;32m/usr/local/lib/python3.7/dist-packages/google/colab/_message.py\u001b[0m in \u001b[0;36mblocking_request\u001b[0;34m(request_type, request, timeout_sec, parent)\u001b[0m\n\u001b[1;32m    173\u001b[0m   request_id = send_request(\n\u001b[1;32m    174\u001b[0m       request_type, request, parent=parent, expect_reply=True)\n\u001b[0;32m--> 175\u001b[0;31m   \u001b[0;32mreturn\u001b[0m \u001b[0mread_reply_from_input\u001b[0m\u001b[0;34m(\u001b[0m\u001b[0mrequest_id\u001b[0m\u001b[0;34m,\u001b[0m \u001b[0mtimeout_sec\u001b[0m\u001b[0;34m)\u001b[0m\u001b[0;34m\u001b[0m\u001b[0;34m\u001b[0m\u001b[0m\n\u001b[0m",
            "\u001b[0;32m/usr/local/lib/python3.7/dist-packages/google/colab/_message.py\u001b[0m in \u001b[0;36mread_reply_from_input\u001b[0;34m(message_id, timeout_sec)\u001b[0m\n\u001b[1;32m    104\u001b[0m         reply.get('colab_msg_id') == message_id):\n\u001b[1;32m    105\u001b[0m       \u001b[0;32mif\u001b[0m \u001b[0;34m'error'\u001b[0m \u001b[0;32min\u001b[0m \u001b[0mreply\u001b[0m\u001b[0;34m:\u001b[0m\u001b[0;34m\u001b[0m\u001b[0;34m\u001b[0m\u001b[0m\n\u001b[0;32m--> 106\u001b[0;31m         \u001b[0;32mraise\u001b[0m \u001b[0mMessageError\u001b[0m\u001b[0;34m(\u001b[0m\u001b[0mreply\u001b[0m\u001b[0;34m[\u001b[0m\u001b[0;34m'error'\u001b[0m\u001b[0;34m]\u001b[0m\u001b[0;34m)\u001b[0m\u001b[0;34m\u001b[0m\u001b[0;34m\u001b[0m\u001b[0m\n\u001b[0m\u001b[1;32m    107\u001b[0m       \u001b[0;32mreturn\u001b[0m \u001b[0mreply\u001b[0m\u001b[0;34m.\u001b[0m\u001b[0mget\u001b[0m\u001b[0;34m(\u001b[0m\u001b[0;34m'data'\u001b[0m\u001b[0;34m,\u001b[0m \u001b[0;32mNone\u001b[0m\u001b[0;34m)\u001b[0m\u001b[0;34m\u001b[0m\u001b[0;34m\u001b[0m\u001b[0m\n\u001b[1;32m    108\u001b[0m \u001b[0;34m\u001b[0m\u001b[0m\n",
            "\u001b[0;31mMessageError\u001b[0m: Error: credential propagation was unsuccessful"
          ]
        }
      ],
      "source": [
        "#required libraries\n",
        "!pip install rasterio\n",
        "import rasterio as rio #to handle raster data\n",
        "from pathlib import Path #to point directory paths\n",
        "import numpy as np #multi-dimensional array calculation\n",
        "import matplotlib.pyplot as plt #plots, visualization\n",
        "\n",
        "#set the path to the folder containing Sentinel-2A images\n",
        "from google.colab import drive\n",
        "drive.mount('/content/drive')\n",
        "pathB03 = '/content/drive/MyDrive/T19LCG_20200827T145731_B03_10m.jp2'\n",
        "pathB04 = '/content/drive/MyDrive/T19LCG_20200827T145731_B04_10m.jp2'\n",
        "pathB08 = '/content/drive/MyDrive/T19LCG_20200827T145731_B08_10m.jp2'\n",
        "\n",
        "# Loading GREEN, RED and NIR bands\n",
        "band_green= rio.open(pathB03).read()\n",
        "band_red= rio.open(pathB04).read()\n",
        "band_nir= rio.open(pathB08).read()\n",
        "\n",
        "mask = np.ones(shape=band_nir.shape,dtype=bool)\n",
        "mask = np.logical_and(mask,band_nir == 0.0)\n",
        "band_nir[mask] = 1\n",
        "\n",
        "# Calculate NDVI\n",
        "ndvi = (band_nir.astype(float) - band_red.astype(float)) / (band_nir.astype(float) + band_red.astype(float) + 1e-8)\n",
        "\n",
        "#Calculate NDWI\n",
        "ndwi = (band_green.astype(float) - band_nir.astype(float)) / (band_green.astype(float) + band_nir.astype(float) + 1e-8)\n",
        "\n",
        "#plot images\n",
        "fig,axs = plt.subplots(1,3,figsize=(18,6))\n",
        "im0=axs[0].imshow(band_red[0],cmap='Reds_r')\n",
        "axs[0].title.set_text('Red Band')\n",
        "\n",
        "fig.colorbar(im0,ax=axs[0])\n",
        "im1=axs[1].imshow(band_nir[0],cmap='Spectral_r')\n",
        "axs[1].title.set_text('Infrared Band')\n",
        "fig.colorbar(im1,ax=axs[1])\n",
        "\n",
        "im2=axs[2].imshow(ndvi[0],vmin=-1,vmax=1,cmap='RdYlGn')\n",
        "axs[2].title.set_text('NDVI')\n",
        "fig.colorbar(im2,ax=axs[2])\n",
        "\n",
        "#Task 1\n",
        "#plot images\n",
        "fig,axs = plt.subplots(1,3,figsize=(18,6))\n",
        "im0=axs[0].imshow(band_green[0],cmap='Greens')\n",
        "axs[0].title.set_text('Green Band')\n",
        "#fig.colorbar(im0,ax=axs[0],location='bottom')\n",
        "fig.colorbar(im0,ax=axs[0])\n",
        "\n",
        "im1=axs[1].imshow(band_nir[0],cmap='Spectral_r')\n",
        "axs[1].title.set_text('Infrared Band')\n",
        "fig.colorbar(im1,ax=axs[1])\n",
        "\n",
        "im2=axs[2].imshow(ndwi[0],vmin=-1,vmax=0,cmap='RdBu')\n",
        "axs[2].title.set_text('NDWI')\n",
        "fig.colorbar(im2,ax=axs[2])"
      ]
    },
    {
      "cell_type": "code",
      "execution_count": null,
      "metadata": {
        "id": "ulpUmHyfIOik"
      },
      "outputs": [],
      "source": []
    },
    {
      "cell_type": "code",
      "execution_count": null,
      "metadata": {
        "colab": {
          "base_uri": "https://localhost:8080/"
        },
        "id": "GAy6wfu7EMSP",
        "outputId": "223e00d9-1a04-4101-8e9e-4ddb0f9dbc12"
      },
      "outputs": [
        {
          "name": "stdout",
          "output_type": "stream",
          "text": [
            "Drive already mounted at /content/drive; to attempt to forcibly remount, call drive.mount(\"/content/drive\", force_remount=True).\n"
          ]
        },
        {
          "data": {
            "text/plain": [
              "0.6222435282837967"
            ]
          },
          "execution_count": 19,
          "metadata": {},
          "output_type": "execute_result"
        }
      ],
      "source": [
        "import numpy as np\n",
        "from sklearn.cluster import KMeans\n",
        "import pandas as pd\n",
        "\n",
        "from google.colab import drive\n",
        "drive.mount('/content/drive')\n",
        "df = pd.read_excel('/content/drive/MyDrive/titanic.xls')\n",
        "df.head()\n",
        "\n",
        "#Use all parameters to predict\n",
        "#Arrange data\n",
        "df.drop(columns=['name','ticket','cabin','boat','body','home.dest'], inplace=True)\n",
        "df['sex']=df['sex'].replace({'male':0,'female':1})\n",
        "df['embarked'] = df['embarked'].replace({'C':1, 'Q':2, 'S':3})\n",
        "df.dropna(inplace=True)\n",
        "df.head()\n",
        "\n",
        "X = df.drop(columns=['survived']).to_numpy()\n",
        "Y = df['survived'].to_numpy()\n",
        "\n",
        "#Apply K Means\n",
        "kmeans = KMeans(n_clusters=2,random_state=100)\n",
        "df['predict'] = kmeans.fit_predict(X)\n",
        "\n",
        "df[df['survived']==df['predict']].shape[0] / df.shape[0]"
      ]
    },
    {
      "cell_type": "code",
      "execution_count": null,
      "metadata": {
        "colab": {
          "base_uri": "https://localhost:8080/",
          "height": 332
        },
        "id": "IEK0QDnWKjwD",
        "outputId": "e38c6738-b1e0-4c36-82f6-4ef0fb9e9d1c"
      },
      "outputs": [
        {
          "data": {
            "text/html": [
              "<style  type=\"text/css\" >\n",
              "#T_1ddfa216_78f7_11ec_96f1_0242ac1c0002row0_col0,#T_1ddfa216_78f7_11ec_96f1_0242ac1c0002row1_col1,#T_1ddfa216_78f7_11ec_96f1_0242ac1c0002row2_col2,#T_1ddfa216_78f7_11ec_96f1_0242ac1c0002row3_col3,#T_1ddfa216_78f7_11ec_96f1_0242ac1c0002row4_col4,#T_1ddfa216_78f7_11ec_96f1_0242ac1c0002row5_col5,#T_1ddfa216_78f7_11ec_96f1_0242ac1c0002row6_col6,#T_1ddfa216_78f7_11ec_96f1_0242ac1c0002row7_col7,#T_1ddfa216_78f7_11ec_96f1_0242ac1c0002row8_col8{\n",
              "            background-color:  #b40426;\n",
              "            color:  #f1f1f1;\n",
              "        }#T_1ddfa216_78f7_11ec_96f1_0242ac1c0002row0_col1,#T_1ddfa216_78f7_11ec_96f1_0242ac1c0002row0_col2,#T_1ddfa216_78f7_11ec_96f1_0242ac1c0002row0_col3,#T_1ddfa216_78f7_11ec_96f1_0242ac1c0002row0_col6,#T_1ddfa216_78f7_11ec_96f1_0242ac1c0002row0_col8,#T_1ddfa216_78f7_11ec_96f1_0242ac1c0002row3_col4,#T_1ddfa216_78f7_11ec_96f1_0242ac1c0002row3_col5,#T_1ddfa216_78f7_11ec_96f1_0242ac1c0002row6_col0,#T_1ddfa216_78f7_11ec_96f1_0242ac1c0002row6_col7{\n",
              "            background-color:  #3b4cc0;\n",
              "            color:  #f1f1f1;\n",
              "        }#T_1ddfa216_78f7_11ec_96f1_0242ac1c0002row0_col4,#T_1ddfa216_78f7_11ec_96f1_0242ac1c0002row4_col1,#T_1ddfa216_78f7_11ec_96f1_0242ac1c0002row7_col3,#T_1ddfa216_78f7_11ec_96f1_0242ac1c0002row7_col4{\n",
              "            background-color:  #86a9fc;\n",
              "            color:  #000000;\n",
              "        }#T_1ddfa216_78f7_11ec_96f1_0242ac1c0002row0_col5{\n",
              "            background-color:  #6788ee;\n",
              "            color:  #000000;\n",
              "        }#T_1ddfa216_78f7_11ec_96f1_0242ac1c0002row0_col7{\n",
              "            background-color:  #cdd9ec;\n",
              "            color:  #000000;\n",
              "        }#T_1ddfa216_78f7_11ec_96f1_0242ac1c0002row1_col0{\n",
              "            background-color:  #6c8ff1;\n",
              "            color:  #000000;\n",
              "        }#T_1ddfa216_78f7_11ec_96f1_0242ac1c0002row1_col2{\n",
              "            background-color:  #f1cdba;\n",
              "            color:  #000000;\n",
              "        }#T_1ddfa216_78f7_11ec_96f1_0242ac1c0002row1_col3{\n",
              "            background-color:  #8caffe;\n",
              "            color:  #000000;\n",
              "        }#T_1ddfa216_78f7_11ec_96f1_0242ac1c0002row1_col4,#T_1ddfa216_78f7_11ec_96f1_0242ac1c0002row5_col3{\n",
              "            background-color:  #7699f6;\n",
              "            color:  #000000;\n",
              "        }#T_1ddfa216_78f7_11ec_96f1_0242ac1c0002row1_col5{\n",
              "            background-color:  #85a8fc;\n",
              "            color:  #000000;\n",
              "        }#T_1ddfa216_78f7_11ec_96f1_0242ac1c0002row1_col6{\n",
              "            background-color:  #e1dad6;\n",
              "            color:  #000000;\n",
              "        }#T_1ddfa216_78f7_11ec_96f1_0242ac1c0002row1_col7{\n",
              "            background-color:  #516ddb;\n",
              "            color:  #000000;\n",
              "        }#T_1ddfa216_78f7_11ec_96f1_0242ac1c0002row1_col8{\n",
              "            background-color:  #c0d4f5;\n",
              "            color:  #000000;\n",
              "        }#T_1ddfa216_78f7_11ec_96f1_0242ac1c0002row2_col0,#T_1ddfa216_78f7_11ec_96f1_0242ac1c0002row2_col4{\n",
              "            background-color:  #94b6ff;\n",
              "            color:  #000000;\n",
              "        }#T_1ddfa216_78f7_11ec_96f1_0242ac1c0002row2_col1{\n",
              "            background-color:  #f6bea4;\n",
              "            color:  #000000;\n",
              "        }#T_1ddfa216_78f7_11ec_96f1_0242ac1c0002row2_col3{\n",
              "            background-color:  #8badfd;\n",
              "            color:  #000000;\n",
              "        }#T_1ddfa216_78f7_11ec_96f1_0242ac1c0002row2_col5{\n",
              "            background-color:  #a6c4fe;\n",
              "            color:  #000000;\n",
              "        }#T_1ddfa216_78f7_11ec_96f1_0242ac1c0002row2_col6{\n",
              "            background-color:  #d7dce3;\n",
              "            color:  #000000;\n",
              "        }#T_1ddfa216_78f7_11ec_96f1_0242ac1c0002row2_col7{\n",
              "            background-color:  #688aef;\n",
              "            color:  #000000;\n",
              "        }#T_1ddfa216_78f7_11ec_96f1_0242ac1c0002row2_col8{\n",
              "            background-color:  #bad0f8;\n",
              "            color:  #000000;\n",
              "        }#T_1ddfa216_78f7_11ec_96f1_0242ac1c0002row3_col0{\n",
              "            background-color:  #5977e3;\n",
              "            color:  #000000;\n",
              "        }#T_1ddfa216_78f7_11ec_96f1_0242ac1c0002row3_col1{\n",
              "            background-color:  #7a9df8;\n",
              "            color:  #000000;\n",
              "        }#T_1ddfa216_78f7_11ec_96f1_0242ac1c0002row3_col2{\n",
              "            background-color:  #4e68d8;\n",
              "            color:  #000000;\n",
              "        }#T_1ddfa216_78f7_11ec_96f1_0242ac1c0002row3_col6{\n",
              "            background-color:  #d6dce4;\n",
              "            color:  #000000;\n",
              "        }#T_1ddfa216_78f7_11ec_96f1_0242ac1c0002row3_col7{\n",
              "            background-color:  #6f92f3;\n",
              "            color:  #000000;\n",
              "        }#T_1ddfa216_78f7_11ec_96f1_0242ac1c0002row3_col8{\n",
              "            background-color:  #afcafc;\n",
              "            color:  #000000;\n",
              "        }#T_1ddfa216_78f7_11ec_96f1_0242ac1c0002row4_col0{\n",
              "            background-color:  #bcd2f7;\n",
              "            color:  #000000;\n",
              "        }#T_1ddfa216_78f7_11ec_96f1_0242ac1c0002row4_col2{\n",
              "            background-color:  #7ea1fa;\n",
              "            color:  #000000;\n",
              "        }#T_1ddfa216_78f7_11ec_96f1_0242ac1c0002row4_col3,#T_1ddfa216_78f7_11ec_96f1_0242ac1c0002row8_col0{\n",
              "            background-color:  #5f7fe8;\n",
              "            color:  #000000;\n",
              "        }#T_1ddfa216_78f7_11ec_96f1_0242ac1c0002row4_col5{\n",
              "            background-color:  #d1dae9;\n",
              "            color:  #000000;\n",
              "        }#T_1ddfa216_78f7_11ec_96f1_0242ac1c0002row4_col6{\n",
              "            background-color:  #cfdaea;\n",
              "            color:  #000000;\n",
              "        }#T_1ddfa216_78f7_11ec_96f1_0242ac1c0002row4_col7{\n",
              "            background-color:  #93b5fe;\n",
              "            color:  #000000;\n",
              "        }#T_1ddfa216_78f7_11ec_96f1_0242ac1c0002row4_col8,#T_1ddfa216_78f7_11ec_96f1_0242ac1c0002row6_col4{\n",
              "            background-color:  #a2c1ff;\n",
              "            color:  #000000;\n",
              "        }#T_1ddfa216_78f7_11ec_96f1_0242ac1c0002row5_col0,#T_1ddfa216_78f7_11ec_96f1_0242ac1c0002row8_col1{\n",
              "            background-color:  #b7cff9;\n",
              "            color:  #000000;\n",
              "        }#T_1ddfa216_78f7_11ec_96f1_0242ac1c0002row5_col1{\n",
              "            background-color:  #a9c6fd;\n",
              "            color:  #000000;\n",
              "        }#T_1ddfa216_78f7_11ec_96f1_0242ac1c0002row5_col2,#T_1ddfa216_78f7_11ec_96f1_0242ac1c0002row6_col5{\n",
              "            background-color:  #a5c3fe;\n",
              "            color:  #000000;\n",
              "        }#T_1ddfa216_78f7_11ec_96f1_0242ac1c0002row5_col4{\n",
              "            background-color:  #dbdcde;\n",
              "            color:  #000000;\n",
              "        }#T_1ddfa216_78f7_11ec_96f1_0242ac1c0002row5_col6{\n",
              "            background-color:  #dcdddd;\n",
              "            color:  #000000;\n",
              "        }#T_1ddfa216_78f7_11ec_96f1_0242ac1c0002row5_col7{\n",
              "            background-color:  #89acfd;\n",
              "            color:  #000000;\n",
              "        }#T_1ddfa216_78f7_11ec_96f1_0242ac1c0002row5_col8{\n",
              "            background-color:  #bfd3f6;\n",
              "            color:  #000000;\n",
              "        }#T_1ddfa216_78f7_11ec_96f1_0242ac1c0002row6_col1{\n",
              "            background-color:  #c9d7f0;\n",
              "            color:  #000000;\n",
              "        }#T_1ddfa216_78f7_11ec_96f1_0242ac1c0002row6_col2{\n",
              "            background-color:  #9abbff;\n",
              "            color:  #000000;\n",
              "        }#T_1ddfa216_78f7_11ec_96f1_0242ac1c0002row6_col3{\n",
              "            background-color:  #c5d6f2;\n",
              "            color:  #000000;\n",
              "        }#T_1ddfa216_78f7_11ec_96f1_0242ac1c0002row6_col8{\n",
              "            background-color:  #df634e;\n",
              "            color:  #000000;\n",
              "        }#T_1ddfa216_78f7_11ec_96f1_0242ac1c0002row7_col0{\n",
              "            background-color:  #e6d7cf;\n",
              "            color:  #000000;\n",
              "        }#T_1ddfa216_78f7_11ec_96f1_0242ac1c0002row7_col1{\n",
              "            background-color:  #5572df;\n",
              "            color:  #000000;\n",
              "        }#T_1ddfa216_78f7_11ec_96f1_0242ac1c0002row7_col2{\n",
              "            background-color:  #4358cb;\n",
              "            color:  #f1f1f1;\n",
              "        }#T_1ddfa216_78f7_11ec_96f1_0242ac1c0002row7_col5{\n",
              "            background-color:  #6687ed;\n",
              "            color:  #000000;\n",
              "        }#T_1ddfa216_78f7_11ec_96f1_0242ac1c0002row7_col6{\n",
              "            background-color:  #7093f3;\n",
              "            color:  #000000;\n",
              "        }#T_1ddfa216_78f7_11ec_96f1_0242ac1c0002row7_col8{\n",
              "            background-color:  #6485ec;\n",
              "            color:  #000000;\n",
              "        }#T_1ddfa216_78f7_11ec_96f1_0242ac1c0002row8_col2{\n",
              "            background-color:  #8db0fe;\n",
              "            color:  #000000;\n",
              "        }#T_1ddfa216_78f7_11ec_96f1_0242ac1c0002row8_col3{\n",
              "            background-color:  #b5cdfa;\n",
              "            color:  #000000;\n",
              "        }#T_1ddfa216_78f7_11ec_96f1_0242ac1c0002row8_col4{\n",
              "            background-color:  #88abfd;\n",
              "            color:  #000000;\n",
              "        }#T_1ddfa216_78f7_11ec_96f1_0242ac1c0002row8_col5{\n",
              "            background-color:  #97b8ff;\n",
              "            color:  #000000;\n",
              "        }#T_1ddfa216_78f7_11ec_96f1_0242ac1c0002row8_col6{\n",
              "            background-color:  #da5a49;\n",
              "            color:  #000000;\n",
              "        }#T_1ddfa216_78f7_11ec_96f1_0242ac1c0002row8_col7{\n",
              "            background-color:  #5470de;\n",
              "            color:  #000000;\n",
              "        }</style><table id=\"T_1ddfa216_78f7_11ec_96f1_0242ac1c0002\" class=\"dataframe\"><thead>    <tr>        <th class=\"blank level0\" ></th>        <th class=\"col_heading level0 col0\" >pclass</th>        <th class=\"col_heading level0 col1\" >survived</th>        <th class=\"col_heading level0 col2\" >sex</th>        <th class=\"col_heading level0 col3\" >age</th>        <th class=\"col_heading level0 col4\" >sibsp</th>        <th class=\"col_heading level0 col5\" >parch</th>        <th class=\"col_heading level0 col6\" >fare</th>        <th class=\"col_heading level0 col7\" >embarked</th>        <th class=\"col_heading level0 col8\" >predict</th>    </tr></thead><tbody>\n",
              "                <tr>\n",
              "                        <th id=\"T_1ddfa216_78f7_11ec_96f1_0242ac1c0002level0_row0\" class=\"row_heading level0 row0\" >pclass</th>\n",
              "                        <td id=\"T_1ddfa216_78f7_11ec_96f1_0242ac1c0002row0_col0\" class=\"data row0 col0\" >1.000000</td>\n",
              "                        <td id=\"T_1ddfa216_78f7_11ec_96f1_0242ac1c0002row0_col1\" class=\"data row0 col1\" >-0.317737</td>\n",
              "                        <td id=\"T_1ddfa216_78f7_11ec_96f1_0242ac1c0002row0_col2\" class=\"data row0 col2\" >-0.141032</td>\n",
              "                        <td id=\"T_1ddfa216_78f7_11ec_96f1_0242ac1c0002row0_col3\" class=\"data row0 col3\" >-0.409082</td>\n",
              "                        <td id=\"T_1ddfa216_78f7_11ec_96f1_0242ac1c0002row0_col4\" class=\"data row0 col4\" >0.046333</td>\n",
              "                        <td id=\"T_1ddfa216_78f7_11ec_96f1_0242ac1c0002row0_col5\" class=\"data row0 col5\" >0.016342</td>\n",
              "                        <td id=\"T_1ddfa216_78f7_11ec_96f1_0242ac1c0002row0_col6\" class=\"data row0 col6\" >-0.564558</td>\n",
              "                        <td id=\"T_1ddfa216_78f7_11ec_96f1_0242ac1c0002row0_col7\" class=\"data row0 col7\" >0.276547</td>\n",
              "                        <td id=\"T_1ddfa216_78f7_11ec_96f1_0242ac1c0002row0_col8\" class=\"data row0 col8\" >-0.376980</td>\n",
              "            </tr>\n",
              "            <tr>\n",
              "                        <th id=\"T_1ddfa216_78f7_11ec_96f1_0242ac1c0002level0_row1\" class=\"row_heading level0 row1\" >survived</th>\n",
              "                        <td id=\"T_1ddfa216_78f7_11ec_96f1_0242ac1c0002row1_col0\" class=\"data row1 col0\" >-0.317737</td>\n",
              "                        <td id=\"T_1ddfa216_78f7_11ec_96f1_0242ac1c0002row1_col1\" class=\"data row1 col1\" >1.000000</td>\n",
              "                        <td id=\"T_1ddfa216_78f7_11ec_96f1_0242ac1c0002row1_col2\" class=\"data row1 col2\" >0.536332</td>\n",
              "                        <td id=\"T_1ddfa216_78f7_11ec_96f1_0242ac1c0002row1_col3\" class=\"data row1 col3\" >-0.057416</td>\n",
              "                        <td id=\"T_1ddfa216_78f7_11ec_96f1_0242ac1c0002row1_col4\" class=\"data row1 col4\" >-0.011403</td>\n",
              "                        <td id=\"T_1ddfa216_78f7_11ec_96f1_0242ac1c0002row1_col5\" class=\"data row1 col5\" >0.115436</td>\n",
              "                        <td id=\"T_1ddfa216_78f7_11ec_96f1_0242ac1c0002row1_col6\" class=\"data row1 col6\" >0.247858</td>\n",
              "                        <td id=\"T_1ddfa216_78f7_11ec_96f1_0242ac1c0002row1_col7\" class=\"data row1 col7\" >-0.202258</td>\n",
              "                        <td id=\"T_1ddfa216_78f7_11ec_96f1_0242ac1c0002row1_col8\" class=\"data row1 col8\" >0.172692</td>\n",
              "            </tr>\n",
              "            <tr>\n",
              "                        <th id=\"T_1ddfa216_78f7_11ec_96f1_0242ac1c0002level0_row2\" class=\"row_heading level0 row2\" >sex</th>\n",
              "                        <td id=\"T_1ddfa216_78f7_11ec_96f1_0242ac1c0002row2_col0\" class=\"data row2 col0\" >-0.141032</td>\n",
              "                        <td id=\"T_1ddfa216_78f7_11ec_96f1_0242ac1c0002row2_col1\" class=\"data row2 col1\" >0.536332</td>\n",
              "                        <td id=\"T_1ddfa216_78f7_11ec_96f1_0242ac1c0002row2_col2\" class=\"data row2 col2\" >1.000000</td>\n",
              "                        <td id=\"T_1ddfa216_78f7_11ec_96f1_0242ac1c0002row2_col3\" class=\"data row2 col3\" >-0.066007</td>\n",
              "                        <td id=\"T_1ddfa216_78f7_11ec_96f1_0242ac1c0002row2_col4\" class=\"data row2 col4\" >0.096464</td>\n",
              "                        <td id=\"T_1ddfa216_78f7_11ec_96f1_0242ac1c0002row2_col5\" class=\"data row2 col5\" >0.222531</td>\n",
              "                        <td id=\"T_1ddfa216_78f7_11ec_96f1_0242ac1c0002row2_col6\" class=\"data row2 col6\" >0.186400</td>\n",
              "                        <td id=\"T_1ddfa216_78f7_11ec_96f1_0242ac1c0002row2_col7\" class=\"data row2 col7\" >-0.109425</td>\n",
              "                        <td id=\"T_1ddfa216_78f7_11ec_96f1_0242ac1c0002row2_col8\" class=\"data row2 col8\" >0.147441</td>\n",
              "            </tr>\n",
              "            <tr>\n",
              "                        <th id=\"T_1ddfa216_78f7_11ec_96f1_0242ac1c0002level0_row3\" class=\"row_heading level0 row3\" >age</th>\n",
              "                        <td id=\"T_1ddfa216_78f7_11ec_96f1_0242ac1c0002row3_col0\" class=\"data row3 col0\" >-0.409082</td>\n",
              "                        <td id=\"T_1ddfa216_78f7_11ec_96f1_0242ac1c0002row3_col1\" class=\"data row3 col1\" >-0.057416</td>\n",
              "                        <td id=\"T_1ddfa216_78f7_11ec_96f1_0242ac1c0002row3_col2\" class=\"data row3 col2\" >-0.066007</td>\n",
              "                        <td id=\"T_1ddfa216_78f7_11ec_96f1_0242ac1c0002row3_col3\" class=\"data row3 col3\" >1.000000</td>\n",
              "                        <td id=\"T_1ddfa216_78f7_11ec_96f1_0242ac1c0002row3_col4\" class=\"data row3 col4\" >-0.242345</td>\n",
              "                        <td id=\"T_1ddfa216_78f7_11ec_96f1_0242ac1c0002row3_col5\" class=\"data row3 col5\" >-0.149311</td>\n",
              "                        <td id=\"T_1ddfa216_78f7_11ec_96f1_0242ac1c0002row3_col6\" class=\"data row3 col6\" >0.177205</td>\n",
              "                        <td id=\"T_1ddfa216_78f7_11ec_96f1_0242ac1c0002row3_col7\" class=\"data row3 col7\" >-0.083269</td>\n",
              "                        <td id=\"T_1ddfa216_78f7_11ec_96f1_0242ac1c0002row3_col8\" class=\"data row3 col8\" >0.106192</td>\n",
              "            </tr>\n",
              "            <tr>\n",
              "                        <th id=\"T_1ddfa216_78f7_11ec_96f1_0242ac1c0002level0_row4\" class=\"row_heading level0 row4\" >sibsp</th>\n",
              "                        <td id=\"T_1ddfa216_78f7_11ec_96f1_0242ac1c0002row4_col0\" class=\"data row4 col0\" >0.046333</td>\n",
              "                        <td id=\"T_1ddfa216_78f7_11ec_96f1_0242ac1c0002row4_col1\" class=\"data row4 col1\" >-0.011403</td>\n",
              "                        <td id=\"T_1ddfa216_78f7_11ec_96f1_0242ac1c0002row4_col2\" class=\"data row4 col2\" >0.096464</td>\n",
              "                        <td id=\"T_1ddfa216_78f7_11ec_96f1_0242ac1c0002row4_col3\" class=\"data row4 col3\" >-0.242345</td>\n",
              "                        <td id=\"T_1ddfa216_78f7_11ec_96f1_0242ac1c0002row4_col4\" class=\"data row4 col4\" >1.000000</td>\n",
              "                        <td id=\"T_1ddfa216_78f7_11ec_96f1_0242ac1c0002row4_col5\" class=\"data row4 col5\" >0.373960</td>\n",
              "                        <td id=\"T_1ddfa216_78f7_11ec_96f1_0242ac1c0002row4_col6\" class=\"data row4 col6\" >0.142131</td>\n",
              "                        <td id=\"T_1ddfa216_78f7_11ec_96f1_0242ac1c0002row4_col7\" class=\"data row4 col7\" >0.045510</td>\n",
              "                        <td id=\"T_1ddfa216_78f7_11ec_96f1_0242ac1c0002row4_col8\" class=\"data row4 col8\" >0.052322</td>\n",
              "            </tr>\n",
              "            <tr>\n",
              "                        <th id=\"T_1ddfa216_78f7_11ec_96f1_0242ac1c0002level0_row5\" class=\"row_heading level0 row5\" >parch</th>\n",
              "                        <td id=\"T_1ddfa216_78f7_11ec_96f1_0242ac1c0002row5_col0\" class=\"data row5 col0\" >0.016342</td>\n",
              "                        <td id=\"T_1ddfa216_78f7_11ec_96f1_0242ac1c0002row5_col1\" class=\"data row5 col1\" >0.115436</td>\n",
              "                        <td id=\"T_1ddfa216_78f7_11ec_96f1_0242ac1c0002row5_col2\" class=\"data row5 col2\" >0.222531</td>\n",
              "                        <td id=\"T_1ddfa216_78f7_11ec_96f1_0242ac1c0002row5_col3\" class=\"data row5 col3\" >-0.149311</td>\n",
              "                        <td id=\"T_1ddfa216_78f7_11ec_96f1_0242ac1c0002row5_col4\" class=\"data row5 col4\" >0.373960</td>\n",
              "                        <td id=\"T_1ddfa216_78f7_11ec_96f1_0242ac1c0002row5_col5\" class=\"data row5 col5\" >1.000000</td>\n",
              "                        <td id=\"T_1ddfa216_78f7_11ec_96f1_0242ac1c0002row5_col6\" class=\"data row5 col6\" >0.217650</td>\n",
              "                        <td id=\"T_1ddfa216_78f7_11ec_96f1_0242ac1c0002row5_col7\" class=\"data row5 col7\" >0.011230</td>\n",
              "                        <td id=\"T_1ddfa216_78f7_11ec_96f1_0242ac1c0002row5_col8\" class=\"data row5 col8\" >0.170967</td>\n",
              "            </tr>\n",
              "            <tr>\n",
              "                        <th id=\"T_1ddfa216_78f7_11ec_96f1_0242ac1c0002level0_row6\" class=\"row_heading level0 row6\" >fare</th>\n",
              "                        <td id=\"T_1ddfa216_78f7_11ec_96f1_0242ac1c0002row6_col0\" class=\"data row6 col0\" >-0.564558</td>\n",
              "                        <td id=\"T_1ddfa216_78f7_11ec_96f1_0242ac1c0002row6_col1\" class=\"data row6 col1\" >0.247858</td>\n",
              "                        <td id=\"T_1ddfa216_78f7_11ec_96f1_0242ac1c0002row6_col2\" class=\"data row6 col2\" >0.186400</td>\n",
              "                        <td id=\"T_1ddfa216_78f7_11ec_96f1_0242ac1c0002row6_col3\" class=\"data row6 col3\" >0.177205</td>\n",
              "                        <td id=\"T_1ddfa216_78f7_11ec_96f1_0242ac1c0002row6_col4\" class=\"data row6 col4\" >0.142131</td>\n",
              "                        <td id=\"T_1ddfa216_78f7_11ec_96f1_0242ac1c0002row6_col5\" class=\"data row6 col5\" >0.217650</td>\n",
              "                        <td id=\"T_1ddfa216_78f7_11ec_96f1_0242ac1c0002row6_col6\" class=\"data row6 col6\" >1.000000</td>\n",
              "                        <td id=\"T_1ddfa216_78f7_11ec_96f1_0242ac1c0002row6_col7\" class=\"data row6 col7\" >-0.301455</td>\n",
              "                        <td id=\"T_1ddfa216_78f7_11ec_96f1_0242ac1c0002row6_col8\" class=\"data row6 col8\" >0.817999</td>\n",
              "            </tr>\n",
              "            <tr>\n",
              "                        <th id=\"T_1ddfa216_78f7_11ec_96f1_0242ac1c0002level0_row7\" class=\"row_heading level0 row7\" >embarked</th>\n",
              "                        <td id=\"T_1ddfa216_78f7_11ec_96f1_0242ac1c0002row7_col0\" class=\"data row7 col0\" >0.276547</td>\n",
              "                        <td id=\"T_1ddfa216_78f7_11ec_96f1_0242ac1c0002row7_col1\" class=\"data row7 col1\" >-0.202258</td>\n",
              "                        <td id=\"T_1ddfa216_78f7_11ec_96f1_0242ac1c0002row7_col2\" class=\"data row7 col2\" >-0.109425</td>\n",
              "                        <td id=\"T_1ddfa216_78f7_11ec_96f1_0242ac1c0002row7_col3\" class=\"data row7 col3\" >-0.083269</td>\n",
              "                        <td id=\"T_1ddfa216_78f7_11ec_96f1_0242ac1c0002row7_col4\" class=\"data row7 col4\" >0.045510</td>\n",
              "                        <td id=\"T_1ddfa216_78f7_11ec_96f1_0242ac1c0002row7_col5\" class=\"data row7 col5\" >0.011230</td>\n",
              "                        <td id=\"T_1ddfa216_78f7_11ec_96f1_0242ac1c0002row7_col6\" class=\"data row7 col6\" >-0.301455</td>\n",
              "                        <td id=\"T_1ddfa216_78f7_11ec_96f1_0242ac1c0002row7_col7\" class=\"data row7 col7\" >1.000000</td>\n",
              "                        <td id=\"T_1ddfa216_78f7_11ec_96f1_0242ac1c0002row7_col8\" class=\"data row7 col8\" >-0.191188</td>\n",
              "            </tr>\n",
              "            <tr>\n",
              "                        <th id=\"T_1ddfa216_78f7_11ec_96f1_0242ac1c0002level0_row8\" class=\"row_heading level0 row8\" >predict</th>\n",
              "                        <td id=\"T_1ddfa216_78f7_11ec_96f1_0242ac1c0002row8_col0\" class=\"data row8 col0\" >-0.376980</td>\n",
              "                        <td id=\"T_1ddfa216_78f7_11ec_96f1_0242ac1c0002row8_col1\" class=\"data row8 col1\" >0.172692</td>\n",
              "                        <td id=\"T_1ddfa216_78f7_11ec_96f1_0242ac1c0002row8_col2\" class=\"data row8 col2\" >0.147441</td>\n",
              "                        <td id=\"T_1ddfa216_78f7_11ec_96f1_0242ac1c0002row8_col3\" class=\"data row8 col3\" >0.106192</td>\n",
              "                        <td id=\"T_1ddfa216_78f7_11ec_96f1_0242ac1c0002row8_col4\" class=\"data row8 col4\" >0.052322</td>\n",
              "                        <td id=\"T_1ddfa216_78f7_11ec_96f1_0242ac1c0002row8_col5\" class=\"data row8 col5\" >0.170967</td>\n",
              "                        <td id=\"T_1ddfa216_78f7_11ec_96f1_0242ac1c0002row8_col6\" class=\"data row8 col6\" >0.817999</td>\n",
              "                        <td id=\"T_1ddfa216_78f7_11ec_96f1_0242ac1c0002row8_col7\" class=\"data row8 col7\" >-0.191188</td>\n",
              "                        <td id=\"T_1ddfa216_78f7_11ec_96f1_0242ac1c0002row8_col8\" class=\"data row8 col8\" >1.000000</td>\n",
              "            </tr>\n",
              "    </tbody></table>"
            ],
            "text/plain": [
              "<pandas.io.formats.style.Styler at 0x7fa664eb1410>"
            ]
          },
          "execution_count": 20,
          "metadata": {},
          "output_type": "execute_result"
        }
      ],
      "source": [
        "corr = df.corr()\n",
        "corr.style.background_gradient(cmap='coolwarm')"
      ]
    },
    {
      "cell_type": "code",
      "execution_count": null,
      "metadata": {
        "colab": {
          "base_uri": "https://localhost:8080/"
        },
        "id": "Im6eVjP0Kos_",
        "outputId": "59c510dd-19ce-48e7-d13f-d31eb834e5f4"
      },
      "outputs": [
        {
          "data": {
            "text/plain": [
              "0.7785234899328859"
            ]
          },
          "execution_count": 21,
          "metadata": {},
          "output_type": "execute_result"
        }
      ],
      "source": [
        "#Only use \"sex\" to predict\n",
        "df.drop(columns=['age','sibsp','parch','fare','pclass','embarked'], inplace=True)\n",
        "df.head()\n",
        "\n",
        "X = df.drop(columns=['survived']).to_numpy()\n",
        "Y = df['survived'].to_numpy()\n",
        "\n",
        "#Apply K Means\n",
        "kmeans = KMeans(n_clusters=2,random_state=100)\n",
        "df['predict'] = kmeans.fit_predict(X)\n",
        "\n",
        "df[df['survived']==df['predict']].shape[0] / df.shape[0]"
      ]
    },
    {
      "cell_type": "code",
      "execution_count": null,
      "metadata": {
        "colab": {
          "base_uri": "https://localhost:8080/",
          "height": 143
        },
        "id": "1AawEg-zLho4",
        "outputId": "23b265b1-b92a-46d4-c05e-26b42051295b"
      },
      "outputs": [
        {
          "data": {
            "text/html": [
              "<style  type=\"text/css\" >\n",
              "#T_3256cf94_78f7_11ec_96f1_0242ac1c0002row0_col0,#T_3256cf94_78f7_11ec_96f1_0242ac1c0002row1_col1,#T_3256cf94_78f7_11ec_96f1_0242ac1c0002row1_col2,#T_3256cf94_78f7_11ec_96f1_0242ac1c0002row2_col1,#T_3256cf94_78f7_11ec_96f1_0242ac1c0002row2_col2{\n",
              "            background-color:  #b40426;\n",
              "            color:  #f1f1f1;\n",
              "        }#T_3256cf94_78f7_11ec_96f1_0242ac1c0002row0_col1,#T_3256cf94_78f7_11ec_96f1_0242ac1c0002row0_col2,#T_3256cf94_78f7_11ec_96f1_0242ac1c0002row1_col0,#T_3256cf94_78f7_11ec_96f1_0242ac1c0002row2_col0{\n",
              "            background-color:  #3b4cc0;\n",
              "            color:  #f1f1f1;\n",
              "        }</style><table id=\"T_3256cf94_78f7_11ec_96f1_0242ac1c0002\" class=\"dataframe\"><thead>    <tr>        <th class=\"blank level0\" ></th>        <th class=\"col_heading level0 col0\" >survived</th>        <th class=\"col_heading level0 col1\" >sex</th>        <th class=\"col_heading level0 col2\" >predict</th>    </tr></thead><tbody>\n",
              "                <tr>\n",
              "                        <th id=\"T_3256cf94_78f7_11ec_96f1_0242ac1c0002level0_row0\" class=\"row_heading level0 row0\" >survived</th>\n",
              "                        <td id=\"T_3256cf94_78f7_11ec_96f1_0242ac1c0002row0_col0\" class=\"data row0 col0\" >1.000000</td>\n",
              "                        <td id=\"T_3256cf94_78f7_11ec_96f1_0242ac1c0002row0_col1\" class=\"data row0 col1\" >0.536332</td>\n",
              "                        <td id=\"T_3256cf94_78f7_11ec_96f1_0242ac1c0002row0_col2\" class=\"data row0 col2\" >0.536332</td>\n",
              "            </tr>\n",
              "            <tr>\n",
              "                        <th id=\"T_3256cf94_78f7_11ec_96f1_0242ac1c0002level0_row1\" class=\"row_heading level0 row1\" >sex</th>\n",
              "                        <td id=\"T_3256cf94_78f7_11ec_96f1_0242ac1c0002row1_col0\" class=\"data row1 col0\" >0.536332</td>\n",
              "                        <td id=\"T_3256cf94_78f7_11ec_96f1_0242ac1c0002row1_col1\" class=\"data row1 col1\" >1.000000</td>\n",
              "                        <td id=\"T_3256cf94_78f7_11ec_96f1_0242ac1c0002row1_col2\" class=\"data row1 col2\" >1.000000</td>\n",
              "            </tr>\n",
              "            <tr>\n",
              "                        <th id=\"T_3256cf94_78f7_11ec_96f1_0242ac1c0002level0_row2\" class=\"row_heading level0 row2\" >predict</th>\n",
              "                        <td id=\"T_3256cf94_78f7_11ec_96f1_0242ac1c0002row2_col0\" class=\"data row2 col0\" >0.536332</td>\n",
              "                        <td id=\"T_3256cf94_78f7_11ec_96f1_0242ac1c0002row2_col1\" class=\"data row2 col1\" >1.000000</td>\n",
              "                        <td id=\"T_3256cf94_78f7_11ec_96f1_0242ac1c0002row2_col2\" class=\"data row2 col2\" >1.000000</td>\n",
              "            </tr>\n",
              "    </tbody></table>"
            ],
            "text/plain": [
              "<pandas.io.formats.style.Styler at 0x7fa664eb1810>"
            ]
          },
          "execution_count": 22,
          "metadata": {},
          "output_type": "execute_result"
        }
      ],
      "source": [
        "corr = df.corr()\n",
        "corr.style.background_gradient(cmap='coolwarm')"
      ]
    },
    {
      "cell_type": "code",
      "execution_count": null,
      "metadata": {
        "colab": {
          "base_uri": "https://localhost:8080/"
        },
        "id": "LvJY6YvN64ot",
        "outputId": "c5b23ccf-a4f5-4994-cdb0-b9ca54c3f88d"
      },
      "outputs": [
        {
          "data": {
            "text/plain": [
              "21.12967533980524"
            ]
          },
          "execution_count": 1,
          "metadata": {},
          "output_type": "execute_result"
        }
      ],
      "source": [
        "import numpy as np\n",
        "import matplotlib.pyplot as plt\n",
        "xs = 4000\n",
        "xm = 200000\n",
        "ym = 7500\n",
        "dx = 1000\n",
        "x = np.linspace(xs,xm,dx)\n",
        "y = (ym/xm)*x\n",
        "np.sum((xm-xs)/dx/(np.sqrt(9.81*y))/60)"
      ]
    },
    {
      "cell_type": "code",
      "execution_count": null,
      "metadata": {
        "id": "-MZFyA-SBpzo"
      },
      "outputs": [],
      "source": [
        "import numpy as np\n",
        "import matplotlib.pyplot as plt\n",
        "xs = 4000\n",
        "xm = 200000\n",
        "ym = 7500\n",
        "dx = 1000\n",
        "x = np.linspace(xs,xm,dx)\n",
        "y = (ym/xm)*x\n",
        "np.sum((xm-xs)/dx/(np.sqrt(9.81*y))/60)\n",
        "plt.plot(x/1000,np.sqrt(9.81*y)*3.6)\n",
        "plt.show()"
      ]
    },
    {
      "cell_type": "code",
      "execution_count": null,
      "metadata": {
        "colab": {
          "base_uri": "https://localhost:8080/"
        },
        "id": "AfzhhUvV2vuN",
        "outputId": "d8aba777-1bc7-4737-9277-53b8bae7a99f"
      },
      "outputs": [
        {
          "name": "stdout",
          "output_type": "stream",
          "text": [
            "1 5.5\n",
            "2 7.75\n",
            "3 6.625\n",
            "4 6.0625\n",
            "5 5.78125\n",
            "6 5.640625\n",
            "7 5.7109375\n",
            "8 5.67578125\n",
            "9 5.658203125\n",
            "10 5.6669921875\n",
            "11 5.67138671875\n",
            "12 5.669189453125\n",
            "13 5.6702880859375\n",
            "14 5.67083740234375\n",
            "15 5.670562744140625\n",
            "16 5.6707000732421875\n",
            "17 5.670631408691406\n",
            "18 5.670665740966797\n",
            "19 5.670682907104492\n",
            "20 5.67069149017334\n",
            "21 5.670687198638916\n",
            "22 5.670689344406128\n",
            "23 5.670688271522522\n",
            "24 5.670688807964325\n",
            "25 5.670689076185226\n",
            "26 5.670689210295677\n",
            "27 5.670689277350903\n",
            "28 5.67068924382329\n",
            "29 5.6706892270594835\n",
            "30 5.670689235441387\n",
            "31 5.670689231250435\n"
          ]
        }
      ],
      "source": [
        "import numpy as np\n",
        "\n",
        "def f(x):\n",
        "    return x**3-15*x**2+300\n",
        "A = 1.0\n",
        "B = 10.0\n",
        "EPS = 1e-7\n",
        "IMAX = 50\n",
        "for i in range(IMAX):\n",
        "    #C=(A*f(B)-B*f(A))/(f(B)-f(A))\n",
        "    C=(A+B)/2\n",
        "    if abs(f(C))<EPS:\n",
        "        break\n",
        "    else:\n",
        "        if f(A)*f(C)<0:\n",
        "             B=C\n",
        "        elif f(C)*f(B)<0:\n",
        "             A=C\n",
        "    print(i+1,C)"
      ]
    },
    {
      "cell_type": "code",
      "execution_count": null,
      "metadata": {
        "colab": {
          "base_uri": "https://localhost:8080/"
        },
        "id": "x_NO1oC663HK",
        "outputId": "0850ee16-768f-4da4-a7d3-7480263d33a9"
      },
      "outputs": [
        {
          "name": "stdout",
          "output_type": "stream",
          "text": [
            "1 7.166666666666667\n",
            "2 5.486852105183158\n",
            "3 5.669941148439817\n",
            "4 5.670689213246244\n"
          ]
        }
      ],
      "source": [
        "import numpy as np\n",
        "\n",
        "def f(x):\n",
        "    return x**3-15*x**2+300\n",
        "def df(x):\n",
        "    return 3*x**2-30*x\n",
        "x0 = 2\n",
        "EPS = 1e-7\n",
        "IMAX = 50\n",
        "for i in range(IMAX):\n",
        "    x1=x0-f(x0)/df(x0)\n",
        "    if abs(x1-x0)<EPS:\n",
        "        break\n",
        "    else:\n",
        "        x0=x1\n",
        "    print(i+1,x1)"
      ]
    },
    {
      "cell_type": "code",
      "execution_count": null,
      "metadata": {
        "colab": {
          "base_uri": "https://localhost:8080/"
        },
        "id": "pe1mM8te8V-e",
        "outputId": "a523776a-dc3e-4d7c-a23e-114f4bd193b2"
      },
      "outputs": [
        {
          "name": "stdout",
          "output_type": "stream",
          "text": [
            "1 5.847457627118644\n",
            "2 5.673112249830804\n",
            "3 5.6706764170589885\n",
            "4 5.670689229371805\n"
          ]
        }
      ],
      "source": [
        "import numpy as np\n",
        "def f(x):\n",
        "    return x**3-15*x**2+300\n",
        "x_1 = 1\n",
        "x0 = 5\n",
        "EPS = 1e-7\n",
        "IMAX = 50\n",
        "for i in range(IMAX):\n",
        "    x1=x0-f(x0)*(x0-x_1)/(f(x0)-f(x_1))\n",
        "    if abs(x1-x0)<EPS:\n",
        "        break\n",
        "    else:\n",
        "        x_1=x0\n",
        "        x0=x1\n",
        "    print(i+1,x1)"
      ]
    },
    {
      "cell_type": "code",
      "execution_count": null,
      "metadata": {
        "colab": {
          "base_uri": "https://localhost:8080/"
        },
        "id": "0DHRjeIyxOvd",
        "outputId": "6becc08c-d59c-48bd-fd7b-e5ca1037cdbc"
      },
      "outputs": [
        {
          "name": "stdout",
          "output_type": "stream",
          "text": [
            "5.0\n"
          ]
        }
      ],
      "source": [
        "import numpy as np\n",
        "def l(i,XX,X):\n",
        "    numer=1.0\n",
        "    denom=1.0\n",
        "    for j in range(0,N):\n",
        "        if j!=i:\n",
        "            numer=numer*(XX-X[j])\n",
        "            denom=denom*(X[i]-X[j])\n",
        "    l=numer/denom\n",
        "    return l\n",
        "N=4\n",
        "X=np.zeros(N+1)\n",
        "Y=np.zeros(N+1)\n",
        "dY=np.zeros(N+1)\n",
        "X[0]=-2;Y[0]= 11;\n",
        "X[1]= -1;Y[1]= 8;\n",
        "X[2]= 1;Y[2]=2;\n",
        "X[3]= 2;Y[3]= -1;\n",
        "XX= 0\n",
        "Pn=0.0\n",
        "for i in range(0,N):\n",
        "    Pn=Pn+Y[i]*l(i,XX,X)\n",
        "print(Pn)"
      ]
    },
    {
      "cell_type": "code",
      "execution_count": null,
      "metadata": {
        "colab": {
          "base_uri": "https://localhost:8080/"
        },
        "id": "8Uexlx8gtzOj",
        "outputId": "268d6aa1-a797-4f3e-9434-0524ebbb48f6"
      },
      "outputs": [
        {
          "name": "stdout",
          "output_type": "stream",
          "text": [
            "0.49992400000000004\n"
          ]
        }
      ],
      "source": [
        "import numpy as np\n",
        "def l(i,XX,X):\n",
        "    numer=1.0\n",
        "    denom=1.0\n",
        "    for j in range(0,N):\n",
        "        if j!=i:\n",
        "            numer=numer*(XX-X[j])\n",
        "            denom=denom*(X[i]-X[j])\n",
        "    l=numer/denom\n",
        "    return l\n",
        "N=2\n",
        "X=np.zeros(N+1)\n",
        "Y=np.zeros(N+1)\n",
        "dY=np.zeros(N+1)\n",
        "X[0]=59;Y[0]= 0.515038;\n",
        "X[1]=61;Y[1]= 0.484810;\n",
        "\n",
        "XX= 60\n",
        "Pn=0.0\n",
        "for i in range(0,N):\n",
        "    Pn=Pn+Y[i]*l(i,XX,X)\n",
        "print(Pn)"
      ]
    },
    {
      "cell_type": "code",
      "execution_count": null,
      "metadata": {
        "colab": {
          "base_uri": "https://localhost:8080/"
        },
        "id": "yBPEEl8BN_Tv",
        "outputId": "e46fbbf2-bf0e-40bd-fcfe-d1ff14e1216b"
      },
      "outputs": [
        {
          "name": "stdout",
          "output_type": "stream",
          "text": [
            "  0.00       4.500000       4.500000      -6.500000      -6.500000\n",
            "  0.10       4.450000       4.443061      -6.250000      -6.247894\n",
            "  0.20       4.385000       4.374314      -5.994983      -5.992981\n",
            "  0.30       4.308497       4.296500      -5.737349      -5.737001\n",
            "  0.40       4.223417       4.211907      -5.478936      -5.481246\n",
            "  0.50       4.132179       4.122417      -5.221088      -5.226604\n",
            "  0.60       4.036743       4.029546      -4.964704      -4.973605\n",
            "  0.70       3.938661       3.934475      -4.710290      -4.722455\n",
            "  0.80       3.839121       3.838092      -4.458008      -4.473081\n",
            "  0.90       3.738986       3.741018      -4.207720      -4.225161\n",
            "  1.00       3.638834       3.643637      -3.959028      -3.978161\n",
            "  1.10       3.538990       3.546127      -3.711311      -3.731368\n",
            "  1.20       3.439555       3.448478      -3.463765      -3.483916\n",
            "  1.30       3.340441       3.350527      -3.215434      -3.234822\n",
            "  1.40       3.241396       3.251970      -2.965245      -2.983010\n",
            "  1.50       3.142026       3.152393      -2.712036      -2.727337\n",
            "  1.60       3.041825       3.051286      -2.454583      -2.466621\n",
            "  1.70       2.940194       2.948065      -2.191634      -2.199661\n",
            "  1.80       2.836463       2.842091      -1.921925      -1.925265\n",
            "  1.90       2.729909       2.732686      -1.644210      -1.642265\n",
            "  2.00       2.619778       2.619150      -1.357279      -1.349540\n"
          ]
        }
      ],
      "source": [
        "import numpy as np\n",
        "\n",
        "def fx(t, x, y):\n",
        "   return -3*x - 2*y + 2*t\n",
        "def fy(t, x, y):\n",
        "   return  2*x + y - np.sin(t)\n",
        "\n",
        "def exact_x(t):\n",
        "    return (-0.5+t)*np.exp(-t) + (-2*t+6) - np.cos(t)\n",
        "def exact_y(t):\n",
        "    return -t*np.exp(-t) + (4*t-8) + 1.5*np.cos(t) - 0.5*np.sin(t)\n",
        "\n",
        "NM=20\n",
        "t = [0]*(NM+1)\n",
        "x = [0]*(NM+1)\n",
        "y = [0]*(NM+1)\n",
        "m = 20\n",
        "h = 0.1\n",
        "t[0] =  0.0\n",
        "x[0] =  4.5\n",
        "y[0] = -6.5\n",
        "\n",
        "for n in range(m):\n",
        "    t[n+1] = t[n]+h\n",
        "    x[n+1] = x[n]+h*fx(t[n],x[n],y[n])\n",
        "    y[n+1] = y[n]+h*fy(t[n],x[n],y[n])\n",
        "\n",
        "for n in range(m+1):\n",
        "    print(f'{t[n]:6.2f}{x[n]:15.6f}{exact_x(t[n]):15.6f}{y[n]:15.6f}{exact_y(t[n]):15.6f}')"
      ]
    },
    {
      "cell_type": "code",
      "execution_count": null,
      "metadata": {
        "colab": {
          "base_uri": "https://localhost:8080/"
        },
        "id": "6vrApNMOuSqM",
        "outputId": "79ba652d-f75d-464e-f86c-4d8cdbb03706"
      },
      "outputs": [
        {
          "name": "stdout",
          "output_type": "stream",
          "text": [
            "0.999999741894013\n"
          ]
        }
      ],
      "source": [
        "import numpy as np\n",
        "from scipy import integrate\n",
        "x=np.linspace(0,np.pi*0.5,50)\n",
        "f=np.sin(2*x)\n",
        "y=integrate.simps(f,x)\n",
        "print(y)"
      ]
    },
    {
      "cell_type": "code",
      "execution_count": null,
      "metadata": {
        "colab": {
          "base_uri": "https://localhost:8080/"
        },
        "id": "6tXwYL-NM2tH",
        "outputId": "d3c974fe-b834-4aed-d820-fb14ca2ff553"
      },
      "outputs": [
        {
          "name": "stdout",
          "output_type": "stream",
          "text": [
            "[20. 10. 30. 20. 10.]\n"
          ]
        }
      ],
      "source": [
        "import numpy as np\n",
        "from scipy import linalg\n",
        "A = np.array([[ 3, 5, 4, 7, 3],\n",
        "              [ 7, 3, 3, 1, 7],\n",
        "              [ 1, 2, 3, 2, 3],\n",
        "              [ 5, 1, 2, 4, 5],\n",
        "              [ 1, 4, 2, 5, 3]])\n",
        "b = np.array([400,350,200,300,250])\n",
        "x = np.linalg.solve(A,b)\n",
        "print(x)"
      ]
    },
    {
      "cell_type": "code",
      "execution_count": null,
      "metadata": {
        "colab": {
          "base_uri": "https://localhost:8080/"
        },
        "id": "3z9LVF07whpg",
        "outputId": "cebb229f-db38-469c-8fe0-75ede189e9a1"
      },
      "outputs": [
        {
          "data": {
            "text/plain": [
              "range(1, 6)"
            ]
          },
          "execution_count": 7,
          "metadata": {},
          "output_type": "execute_result"
        }
      ],
      "source": [
        "import numpy as np\n",
        "range(1, 6)\n"
      ]
    }
  ],
  "metadata": {
    "colab": {
      "provenance": []
    },
    "kernelspec": {
      "display_name": "Python 3",
      "name": "python3"
    },
    "language_info": {
      "codemirror_mode": {
        "name": "ipython",
        "version": 3
      },
      "file_extension": ".py",
      "mimetype": "text/x-python",
      "name": "python",
      "nbconvert_exporter": "python",
      "pygments_lexer": "ipython3",
      "version": "3.11.5"
    }
  },
  "nbformat": 4,
  "nbformat_minor": 0
}
