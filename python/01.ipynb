{
 "cells": [
  {
   "cell_type": "markdown",
   "metadata": {},
   "source": [
    "# 1. [NumPy](https://numpy.org/ja/)\n",
    "科学技術用途を中心としたプログラミングで高い利便性をもつライブラリ  \n",
    "- 高速な計算が可能\n",
    "- 効率的な多次元配列の取り扱いや任意のデータ形式の定義できる\n",
    "\n",
    "> データ分析や機械学習系の多くのライブラリは`NumPy`を前提に作られている"
   ]
  },
  {
   "cell_type": "markdown",
   "metadata": {},
   "source": [
    "<!-- ![NumpyStructure](fig1.png) -->\n",
    "<img src=\"fig1.png\" alt=\"Numpy Structure\" width=\"600\" height=\"auto\">"
   ]
  },
  {
   "cell_type": "code",
   "execution_count": null,
   "metadata": {},
   "outputs": [],
   "source": [
    "import numpy as np"
   ]
  },
  {
   "cell_type": "markdown",
   "metadata": {},
   "source": [
    "## 1.1 [生成1] [np.array](https://numpy.org/doc/stable/reference/generated/numpy.array.html) (ndarray)\n",
    "\n",
    "<!-- ![Alt text](fig2.png) -->\n",
    "<img src=\"fig2.png\" alt=\"Numpy Ndarray\" width=\"600\" height=\"auto\">"
   ]
  },
  {
   "cell_type": "code",
   "execution_count": null,
   "metadata": {},
   "outputs": [],
   "source": [
    "A = np.array([[1, 2, 3], [4, 5, 6]])\n",
    "A, type(A)"
   ]
  },
  {
   "cell_type": "code",
   "execution_count": null,
   "metadata": {},
   "outputs": [],
   "source": [
    "A.shape, A.ndim, A.dtype"
   ]
  },
  {
   "cell_type": "markdown",
   "metadata": {},
   "source": [
    "## 1.2　[生成2] [np.ones](https://numpy.org/doc/stable/reference/generated/numpy.ones.html)と[np.zeros](https://numpy.org/doc/stable/reference/generated/numpy.zeros.html)と[np.full](hhttps://numpy.org/doc/stable/reference/generated/numpy.full.html)と[np.eye](https://numpy.org/doc/stable/reference/generated/numpy.eye.html)\n",
    "規則的な`ndarray`を生成する"
   ]
  },
  {
   "cell_type": "markdown",
   "metadata": {},
   "source": [
    "<!-- ![Alt text](fig3.png) -->\n",
    "<img src=\"fig3.png\" alt=\"Numpy Generation\" width=\"600\" height=\"auto\">"
   ]
  },
  {
   "cell_type": "code",
   "execution_count": null,
   "metadata": {},
   "outputs": [],
   "source": [
    "np.ones((5,4)), np.zeros((4,4)), np.random.random(5), np.full((2,2),7), np.eye(3)"
   ]
  },
  {
   "cell_type": "markdown",
   "metadata": {},
   "source": [
    "## 1.3 [生成3] [np.arange](https://numpy.org/doc/stable/reference/generated/numpy.arange.html#numpy-arange)と[np.linspace](https://numpy.org/doc/stable/reference/generated/numpy.linspace.html)と[np.meshgrid](https://numpy.org/doc/stable/reference/generated/numpy.meshgrid.html)\n",
    "規則的な`ndarray`を生成する"
   ]
  },
  {
   "cell_type": "code",
   "execution_count": null,
   "metadata": {},
   "outputs": [],
   "source": [
    "# 一定範囲、一定間隔の数列を様子に持つ ndarray を生成する\n",
    "print(np.arange(1, 10, 2)) #START, STOP, STEP\n",
    "\n",
    "# 一定範囲、一定間隔に等間隔に配置された数列を持つ ndarray を生成する\n",
    "print(np.linspace(0, 10, 5)) #START, STOP, NUM"
   ]
  },
  {
   "cell_type": "code",
   "execution_count": null,
   "metadata": {},
   "outputs": [],
   "source": [
    "# N次元の空間を区切る “メッシュ” を作成する\n",
    "x = np.arange(1, 4) #[1,2,3]\n",
    "y = np.arange(5, 8) #[5,6,7]\n",
    "xx, yy = np.meshgrid(x, y) #np.meshgrid(*xi, copy=True, sparse=False, indexing='xy')\n",
    "print(xx)\n",
    "print(yy)"
   ]
  },
  {
   "cell_type": "markdown",
   "metadata": {},
   "source": [
    "<!-- ![Alt text](fig4.png) -->\n",
    "<img src=\"fig4.png\" alt=\"Numpy Meshgrid\" width=\"600\" height=\"auto\">"
   ]
  },
  {
   "cell_type": "code",
   "execution_count": null,
   "metadata": {},
   "outputs": [],
   "source": [
    "import matplotlib.pyplot as plt"
   ]
  },
  {
   "cell_type": "code",
   "execution_count": null,
   "metadata": {},
   "outputs": [],
   "source": [
    "z = -((xx-5**2 + (yy-5)**2))\n",
    "plt.contourf(xx,yy,z,20);\n",
    "#plt.show()"
   ]
  },
  {
   "cell_type": "markdown",
   "metadata": {},
   "source": [
    "## 1.4 [操作1] [np.ndarray.transpose](https://numpy.org/doc/stable/reference/generated/numpy.ndarray.transpose.html#numpy.ndarray.transpose), [np.ndarray.fill](https://numpy.org/doc/stable/reference/generated/numpy.ndarray.fill.html), [np.ndarray.sort](https://numpy.org/doc/stable/reference/generated/numpy.ndarray.sort.html)"
   ]
  },
  {
   "cell_type": "code",
   "execution_count": null,
   "metadata": {},
   "outputs": [],
   "source": [
    "print(A)\n",
    "print()\n",
    "print(A.transpose())"
   ]
  },
  {
   "cell_type": "code",
   "execution_count": null,
   "metadata": {},
   "outputs": [],
   "source": [
    "print(f'A\\n{A}')\n",
    "print()\n",
    "\n",
    "# Aをコピーする\n",
    "B = A.copy()\n",
    "print(f'B\\n{B}')\n",
    "\n",
    "# Bのすべての要素を0（ゼロ）で埋める（置き換える）。\n",
    "B.fill(0)\n",
    "print()\n",
    "print(f'New B\\n{B}')"
   ]
  },
  {
   "cell_type": "code",
   "execution_count": null,
   "metadata": {},
   "outputs": [],
   "source": [
    "np.set_printoptions(precision=2)\n",
    "\n",
    "C = np.random.random(6)\n",
    "print(f'C\\n{C}')\n",
    "\n",
    "C.sort()\n",
    "print(f'New C\\n{C}')"
   ]
  },
  {
   "cell_type": "markdown",
   "metadata": {},
   "source": [
    "## 1.5 [操作2] [np.sum](https://numpy.org/doc/stable/reference/generated/numpy.sum.html), [np.mean](https://numpy.org/doc/stable/reference/generated/numpy.mean.html#numpy-mean), [np.median](https://numpy.org/doc/stable/reference/generated/numpy.median.html#numpy.median)"
   ]
  },
  {
   "cell_type": "code",
   "execution_count": null,
   "metadata": {},
   "outputs": [],
   "source": [
    "#            No., 年齢, お金\n",
    "D = np.array([[1, 15, 3000],\n",
    "              [2, 23, 1400],\n",
    "              [3, 52, 8200],\n",
    "              [4, 12, 450]])\n",
    "print(f'D\\n{D}')\n",
    "print()\n",
    "\n",
    "# Dの3列目（インデックス2）を取得し、それを合計する。\n",
    "print(f'Total = {np.sum(D[:,2])} JPY')"
   ]
  },
  {
   "cell_type": "code",
   "execution_count": null,
   "metadata": {},
   "outputs": [],
   "source": [
    "# Get the average age\n",
    "print(f'Average AGE = {np.mean(D[:,1])} years old')\n",
    "# Get the median of age\n",
    "print(f'Median AGE = {np.median(D[:,1])} years old')"
   ]
  },
  {
   "cell_type": "markdown",
   "metadata": {},
   "source": [
    "## 1.6 [操作3] [np.amin](https://numpy.org/doc/stable/reference/generated/numpy.amin.html), [np.amax](https://numpy.org/doc/stable/reference/generated/numpy.amax.html)"
   ]
  },
  {
   "cell_type": "code",
   "execution_count": null,
   "metadata": {},
   "outputs": [],
   "source": [
    "#example of np.amin() and np.amax()\n",
    "print(f'Minimum AGE = {np.amin(D[:,1])} years old')\n",
    "print(f'Maximum AGE = {np.amax(D[:,1])} years old')"
   ]
  },
  {
   "cell_type": "markdown",
   "metadata": {},
   "source": [
    "## 1.7 [操作4] [np.exp](https://numpy.org/doc/stable/reference/generated/numpy.exp.html), [np.log](https://numpy.org/doc/stable/reference/generated/numpy.log.html), [np.square](https://numpy.org/doc/stable/reference/generated/numpy.square.html), [np.sqrt](https://numpy.org/doc/stable/reference/generated/numpy.sqrt.html), [np.power](https://numpy.org/doc/stable/reference/generated/numpy.power.html)"
   ]
  },
  {
   "cell_type": "code",
   "execution_count": null,
   "metadata": {},
   "outputs": [],
   "source": [
    "print(f'AGE = {D[:,1]} years old')\n",
    "# example of np.exp()\n",
    "print(f'EXP AGE = {np.exp(D[:,1])} years old')\n",
    "# example of np.log()\n",
    "print(f'LOG AGE = {np.log(D[:,1])} years old')\n",
    "# example of np.square()\n",
    "print(f'SQUARE AGE = {np.square(D[:,1])} years old')\n",
    "# example of np.sqrt()\n",
    "print(f'SQRT AGE = {np.sqrt(D[:,1])} years old')\n",
    "# example of np.power()\n",
    "print(f'POWER AGE = {np.power(D[:,1], 2)} years old')"
   ]
  },
  {
   "cell_type": "markdown",
   "metadata": {},
   "source": [
    "## 1.8 [操作5] [np.sin](https://numpy.org/doc/stable/reference/generated/numpy.sin.html), [np.cos](https://numpy.org/doc/stable/reference/generated/numpy.cos.html#numpy.cos), [np.tan](https://numpy.org/doc/stable/reference/generated/numpy.tan.html)"
   ]
  },
  {
   "cell_type": "code",
   "execution_count": null,
   "metadata": {},
   "outputs": [],
   "source": [
    "deg2rad = np.pi / 180.\n",
    "deg = 30.\n",
    "# example of np.sin()\n",
    "print(np.sin(deg*deg2rad))\n",
    "# example of np.cos()\n",
    "print(np.cos(deg*deg2rad))\n",
    "# example of np.tan()\n",
    "print(np.tan(deg*deg2rad))"
   ]
  },
  {
   "cell_type": "markdown",
   "metadata": {},
   "source": [
    "# 2. [SciPy](https://scipy.org/)\n",
    "\n",
    "- 主に`NumPy`をベースに科学技術計算用に作られた`Python`のライブラリ\n",
    "- `SciPy`がカバーする分野は多岐に渡る\n",
    "\n",
    "> それぞれの分野がサブパッケージとして管理  \n",
    "> 例:  \n",
    "> サブパッケージ名 : `scipy.optimize`  \n",
    "> 分野・概要     : 最適化と根の探索\n"
   ]
  },
  {
   "cell_type": "markdown",
   "metadata": {},
   "source": [
    "|No.|Sub-Package|Description|\n",
    "|---|---|---|\n",
    "|1. |<span style='color: green;'>scipy.cluster</span>   |   Cluster algorithms are used to vector quantization/ Kmeans.|\n",
    "|2.\t|scipy.constants|   It represents physical and mathematical constants.|\n",
    "|3.\t|scipy.fftpack\t|   It is used for Fourier transform.|\n",
    "|4.\t|scipy.integrate|   Integration routines|\n",
    "|5.\t|scipy.interpolation|   Interpolation|\n",
    "|6.\t|<span style='color: green;'>scipy.linalg</span>   |   It is used for linear algebra routine.|\n",
    "|7.\t|scipy.io   |   It is used for data input and output.|\n",
    "|8.\t|scipy.ndimage  |   It is used for the n-dimension image.|\n",
    "|9.\t|scipy.odr  |   Orthogonal distance regression.|\n",
    "|10.|scipy.optimize |   It is used for optimization.|\n",
    "|11.|scipy.signal   |\tIt is used in signal processing.|\n",
    "|12.|scipy.sparse   |\tSparse matrices and associated routines.|\n",
    "|13.|scipy.spatial  |\tSpatial data structures and algorithms.|\n",
    "|14.|scipy.special  |\tSpecial Function.|\n",
    "|15.|scipy.stats    |\tStatistics.|\n",
    "|16.|scipy.weaves   |\tIt is a tool for writing.|"
   ]
  },
  {
   "cell_type": "code",
   "execution_count": null,
   "metadata": {},
   "outputs": [],
   "source": [
    "# importing scipy packages for KMeans clustering.\n",
    "from scipy.cluster.vq import kmeans\n",
    "\n",
    "# importing the necessary packages\n",
    "import numpy as np\n",
    "import matplotlib.pyplot as plt\n",
    "from sklearn.datasets import make_blobs\n",
    "\n",
    "# generate dataset\n",
    "dataset = make_blobs(n_samples=200,\n",
    "\t\t\t\t\tcenters=4,\n",
    "\t\t\t\t\tn_features=2,\n",
    "\t\t\t\t\tcluster_std=1.6,\n",
    "\t\t\t\t\trandom_state=50)\n",
    "\n",
    "# make dataset zero(0)\n",
    "points = dataset[0]\n",
    "\n",
    "# create K-Means objects\n",
    "model = kmeans(points, k_or_guess=4)\n",
    "\n",
    "# define colormap\n",
    "colors = ['r', 'g', 'b', 'y']\n",
    "\n",
    "# plot the points\n",
    "plt.scatter(dataset[0][:, 0], dataset[0][:, 1], c=dataset[1], cmap='viridis')\n",
    "\n",
    "# plot the centroids\n",
    "centroids = model[0]\n",
    "plt.scatter(centroids[:, 0], centroids[:, 1], marker='*', s=300, c='black')\n",
    "\n",
    "# show the plot\n",
    "plt.show()"
   ]
  },
  {
   "cell_type": "markdown",
   "metadata": {},
   "source": [
    "# 3. [Matplotlib](https://matplotlib.org/)\n",
    "\n",
    "- `Python`でグラフを作成するためのライブラリ\n",
    "- 多くのモジュールで構成されている\n",
    "\n",
    "> グラフを作成するための関数  \n",
    "> `matplotlib.pyplot` モジュールにまとめられている  \n",
    "> 通常、`plt`という名前でインポート  "
   ]
  },
  {
   "cell_type": "code",
   "execution_count": null,
   "metadata": {},
   "outputs": [],
   "source": [
    "import matplotlib.pyplot as plt\n",
    "import numpy as np\n",
    "\n",
    "x = np.linspace(0, 10, 100)\n",
    "y = np.sin(x)\n",
    "\n",
    "plt.plot(x, y, label='sin(x)')\n",
    "plt.xlabel('x')\n",
    "plt.ylabel('y')\n",
    "plt.legend()\n",
    "plt.show()"
   ]
  },
  {
   "cell_type": "markdown",
   "metadata": {},
   "source": [
    "# 4. Numpy, Scipy, Matplotlib を統合"
   ]
  },
  {
   "cell_type": "code",
   "execution_count": null,
   "metadata": {},
   "outputs": [],
   "source": [
    "# 必要なライブラリをインポートする\n",
    "import numpy as np\n",
    "from scipy import stats\n",
    "import matplotlib.pyplot as plt\n",
    "\n",
    "# Numpyの基本的な使い方\n",
    "# 配列の作成\n",
    "arr = np.array([1, 2, 3, 4, 5])\n",
    "\n",
    "# 配列の操作\n",
    "arr2 = arr + 2\n",
    "\n",
    "# 配列の要素数を取得\n",
    "length = len(arr)\n",
    "\n",
    "# 配列の平均値を計算\n",
    "mean_value = np.mean(arr)\n",
    "\n",
    "# Scipyの基本的な使い方\n",
    "# 正規分布の確率密度関数を計算\n",
    "mu = 0\n",
    "sigma = 1\n",
    "x = np.linspace(-3, 3, 100)\n",
    "pdf = stats.norm.pdf(x, mu, sigma)\n",
    "\n",
    "# 最小二乗法による直線のフィッティング\n",
    "x_data = np.array([1, 2, 3, 4, 5])\n",
    "y_data = np.array([2, 3, 3.5, 4.5, 5])\n",
    "slope, intercept, r_value, p_value, std_err = stats.linregress(x_data, y_data)\n",
    "\n",
    "# Matplotlibの基本的な使い方\n",
    "# グラフの作成\n",
    "plt.figure(figsize=(8, 6))\n",
    "\n",
    "# 散布図のプロット\n",
    "plt.scatter(x_data, y_data, label='Data Points')\n",
    "\n",
    "# 最小二乗法による直線のプロット\n",
    "plt.plot(x_data, intercept + slope * x_data, color='red', label='Fitted Line')\n",
    "\n",
    "# グラフにタイトルやラベルを追加\n",
    "plt.title('Linear Regression')\n",
    "plt.xlabel('X')\n",
    "plt.ylabel('Y')\n",
    "\n",
    "# 凡例の表示\n",
    "plt.legend()\n",
    "\n",
    "# グラフを表示\n",
    "plt.show()"
   ]
  },
  {
   "cell_type": "markdown",
   "metadata": {},
   "source": [
    "**問題**:  \n",
    "あなたは橋の設計に携わる構造エンジニアです。橋の構造的な完全性は、それにかかる力の分布に依存します。力のつり合いを表す連立方程式の系があります。あなたの仕事は、NumPyを使用してこの系を解き、未知数を求めることです。\n",
    "\n",
    "**背景**:  \n",
    "単純化されたシナリオでは、静的に決定されたトラス橋の力のつり合いの方程式は次のように表されます：\n",
    "\n",
    "\\begin{align*}\n",
    "2F_1 + F_2 &= 500 \\text{ kN} \\\\\n",
    "F_2 + 3F_3 &= 800 \\text{ kN} \\\\\n",
    "F_1 + F_3 &= 600 \\text{ kN}\n",
    "\\end{align*}\n",
    "\n",
    "ここで、$F_1$、$F_2$、$F_3$はそれぞれ橋の異なる部分にかかる力（キロニュートン、kN）です。\n",
    "\n",
    "**課題**:  \n",
    "1. 行列方程式 $Ax = b$ として力のつり合いの連立方程式を設定し、$A$ を係数行列、$x$ を未知数のベクトル、$b$ を右辺のベクトルとします。\n",
    "\n",
    "2. NumPyを使用して未知数 $F_1$、$F_2$、$F_3$ を解きます。"
   ]
  },
  {
   "cell_type": "code",
   "execution_count": null,
   "metadata": {},
   "outputs": [],
   "source": [
    "import numpy as np\n",
    "\n",
    "# 課題 1: 力のつり合いの連立方程式を設定する\n",
    "A = np.array([[2, 1, 0],\n",
    "              [0, 1, 3],\n",
    "              [1, 0, 1]])\n",
    "\n",
    "b = np.array([500, 800, 600])\n",
    "\n",
    "# 課題 2: 未知数を求める\n",
    "x = np.linalg.solve(A, b)\n",
    "\n",
    "# 結果を取得\n",
    "F1, F2, F3 = x\n",
    "\n",
    "# 結果を表示\n",
    "print(f\"力 F1: {F1} kN\")\n",
    "print(f\"力 F2: {F2} kN\")\n",
    "print(f\"力 F3: {F3} kN\")"
   ]
  }
 ],
 "metadata": {
  "kernelspec": {
   "display_name": "Python 3",
   "language": "python",
   "name": "python3"
  },
  "language_info": {
   "codemirror_mode": {
    "name": "ipython",
    "version": 3
   },
   "file_extension": ".py",
   "mimetype": "text/x-python",
   "name": "python",
   "nbconvert_exporter": "python",
   "pygments_lexer": "ipython3",
   "version": "3.11.5"
  },
  "orig_nbformat": 4
 },
 "nbformat": 4,
 "nbformat_minor": 2
}
