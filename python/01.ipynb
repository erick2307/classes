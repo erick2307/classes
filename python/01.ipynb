{
 "cells": [
  {
   "cell_type": "markdown",
   "metadata": {},
   "source": [
    "# 1. [NumPy](https://numpy.org/ja/)\n",
    "科学技術用途を中心としたプログラミングで高い利便性をもつライブラリ  \n",
    "- 高速な計算が可能\n",
    "- 効率的な多次元配列の取り扱いや任意のデータ形式の定義できる\n",
    "\n",
    "> データ分析や機械学習系の多くのライブラリは`NumPy`を前提に作られている"
   ]
  },
  {
   "cell_type": "markdown",
   "metadata": {},
   "source": [
    "![NumpyStructure](fig1.png)"
   ]
  },
  {
   "cell_type": "code",
   "execution_count": 1,
   "metadata": {},
   "outputs": [],
   "source": [
    "import numpy as np"
   ]
  },
  {
   "cell_type": "markdown",
   "metadata": {},
   "source": [
    "## 1.1 [生成1] [np.array](https://numpy.org/doc/stable/reference/generated/numpy.array.html) (ndarray)\n",
    "\n",
    "![Alt text](fig2.png)"
   ]
  },
  {
   "cell_type": "code",
   "execution_count": 15,
   "metadata": {},
   "outputs": [
    {
     "data": {
      "text/plain": [
       "(array([[1, 2, 3],\n",
       "        [4, 5, 6]]),\n",
       " numpy.ndarray)"
      ]
     },
     "execution_count": 15,
     "metadata": {},
     "output_type": "execute_result"
    }
   ],
   "source": [
    "A = np.array([[1, 2, 3], [4, 5, 6]])\n",
    "A, type(A)"
   ]
  },
  {
   "cell_type": "code",
   "execution_count": 16,
   "metadata": {},
   "outputs": [
    {
     "data": {
      "text/plain": [
       "((2, 3), 2, dtype('int64'))"
      ]
     },
     "execution_count": 16,
     "metadata": {},
     "output_type": "execute_result"
    }
   ],
   "source": [
    "A.shape, A.ndim, A.dtype"
   ]
  },
  {
   "cell_type": "markdown",
   "metadata": {},
   "source": [
    "## 1.2　[生成2] [np.ones](https://numpy.org/doc/stable/reference/generated/numpy.ones.html)と[np.zeros](https://numpy.org/doc/stable/reference/generated/numpy.zeros.html)と[np.full](hhttps://numpy.org/doc/stable/reference/generated/numpy.full.html)と[np.eye](https://numpy.org/doc/stable/reference/generated/numpy.eye.html)\n",
    "規則的な`ndarray`を生成する"
   ]
  },
  {
   "cell_type": "markdown",
   "metadata": {},
   "source": [
    "![Alt text](fig3.png)"
   ]
  },
  {
   "cell_type": "code",
   "execution_count": 13,
   "metadata": {},
   "outputs": [
    {
     "data": {
      "text/plain": [
       "(array([[1., 1., 1., 1.],\n",
       "        [1., 1., 1., 1.],\n",
       "        [1., 1., 1., 1.],\n",
       "        [1., 1., 1., 1.],\n",
       "        [1., 1., 1., 1.]]),\n",
       " array([[0., 0., 0., 0.],\n",
       "        [0., 0., 0., 0.],\n",
       "        [0., 0., 0., 0.],\n",
       "        [0., 0., 0., 0.]]),\n",
       " array([0.08554161, 0.64544174, 0.5020403 , 0.62062727, 0.70231868]),\n",
       " array([[7, 7],\n",
       "        [7, 7]]),\n",
       " array([[1., 0., 0.],\n",
       "        [0., 1., 0.],\n",
       "        [0., 0., 1.]]))"
      ]
     },
     "execution_count": 13,
     "metadata": {},
     "output_type": "execute_result"
    }
   ],
   "source": [
    "np.ones((5,4)), np.zeros((4,4)), np.random.random(5), np.full((2,2),7), np.eye(3)"
   ]
  },
  {
   "cell_type": "markdown",
   "metadata": {},
   "source": [
    "## 1.3 [生成3] [np.arange](https://numpy.org/doc/stable/reference/generated/numpy.arange.html#numpy-arange)と[np.linspace](https://numpy.org/doc/stable/reference/generated/numpy.linspace.html)と[np.meshgrid](https://numpy.org/doc/stable/reference/generated/numpy.meshgrid.html)\n",
    "規則的な`ndarray`を生成する"
   ]
  },
  {
   "cell_type": "code",
   "execution_count": 22,
   "metadata": {},
   "outputs": [
    {
     "name": "stdout",
     "output_type": "stream",
     "text": [
      "[1 3 5 7 9]\n",
      "[ 0.   2.5  5.   7.5 10. ]\n"
     ]
    }
   ],
   "source": [
    "# 一定範囲、一定間隔の数列を様子に持つ ndarray を生成する\n",
    "print(np.arange(1, 10, 2)) #START, STOP, STEP\n",
    "\n",
    "# 一定範囲、一定間隔に等間隔に配置された数列を持つ ndarray を生成する\n",
    "print(np.linspace(0, 10, 5)) #START, STOP, NUM"
   ]
  },
  {
   "cell_type": "code",
   "execution_count": 25,
   "metadata": {},
   "outputs": [
    {
     "name": "stdout",
     "output_type": "stream",
     "text": [
      "[[1 2 3]\n",
      " [1 2 3]\n",
      " [1 2 3]]\n",
      "[[5 5 5]\n",
      " [6 6 6]\n",
      " [7 7 7]]\n"
     ]
    }
   ],
   "source": [
    "# N次元の空間を区切る “メッシュ” を作成する\n",
    "x = np.arange(1, 4) #[1,2,3]\n",
    "y = np.arange(5, 8) #[5,6,7]\n",
    "xx, yy = np.meshgrid(x, y) #np.meshgrid(*xi, copy=True, sparse=False, indexing='xy')\n",
    "print(xx)\n",
    "print(yy)"
   ]
  },
  {
   "cell_type": "markdown",
   "metadata": {},
   "source": [
    "![Alt text](fig4.png)"
   ]
  },
  {
   "cell_type": "code",
   "execution_count": 27,
   "metadata": {},
   "outputs": [],
   "source": [
    "import matplotlib.pyplot as plt"
   ]
  },
  {
   "cell_type": "code",
   "execution_count": 29,
   "metadata": {},
   "outputs": [
    {
     "data": {
      "image/png": "[encoded data removed]",
      "text/plain": [
       "<Figure size 640x480 with 1 Axes>"
      ]
     },
     "metadata": {},
     "output_type": "display_data"
    }
   ],
   "source": [
    "z = -((xx-5**2 + (yy-5)**2))\n",
    "plt.contourf(xx,yy,z,20);\n",
    "#plt.show()"
   ]
  },
  {
   "cell_type": "markdown",
   "metadata": {},
   "source": [
    "## 1.4 [操作1] [np.transpose](), [np.fill](), [np.sort]()"
   ]
  },
  {
   "cell_type": "code",
   "execution_count": null,
   "metadata": {},
   "outputs": [],
   "source": []
  },
  {
   "cell_type": "markdown",
   "metadata": {},
   "source": [
    "## 1.5 [操作2] [np.sum](), [np.mean](), [np.median]()"
   ]
  },
  {
   "cell_type": "code",
   "execution_count": null,
   "metadata": {},
   "outputs": [],
   "source": []
  },
  {
   "cell_type": "markdown",
   "metadata": {},
   "source": [
    "## 1.6 [操作3] [np.amin](), [np.amax](), [np.median]()"
   ]
  },
  {
   "cell_type": "code",
   "execution_count": null,
   "metadata": {},
   "outputs": [],
   "source": []
  },
  {
   "cell_type": "markdown",
   "metadata": {},
   "source": [
    "## 1.7 [操作4] [np.exp](), [np.log](), [np.square](), [np.sqrt](), [np.power]()"
   ]
  },
  {
   "cell_type": "code",
   "execution_count": null,
   "metadata": {},
   "outputs": [],
   "source": []
  },
  {
   "cell_type": "markdown",
   "metadata": {},
   "source": [
    "## 1.8 [操作5] [np.sin](), [np.cos](), [np.tan]()"
   ]
  },
  {
   "cell_type": "code",
   "execution_count": null,
   "metadata": {},
   "outputs": [],
   "source": []
  },
  {
   "cell_type": "markdown",
   "metadata": {},
   "source": [
    "# 2. [SciPy](https://scipy.org/)\n",
    "\n",
    "- 主に`NumPy`をベースに科学技術計算用に作られた`Python`のライブラリ\n",
    "- `SciPy`がカバーする分野は多岐に渡る\n",
    "\n",
    "> それぞれの分野がサブパッケージとして管理  \n",
    "> 例:  \n",
    "> サブパッケージ名 : `scipy.optimize`  \n",
    "> 分野・概要     : 最適化と根の探索\n"
   ]
  },
  {
   "cell_type": "markdown",
   "metadata": {},
   "source": [
    "|No.|Sub-Package|Description|\n",
    "|---|---|---|\n",
    "|1. |<span style='color: green;'>scipy.cluster</span>   |   Cluster algorithms are used to vector quantization/ Kmeans.|\n",
    "|2.\t|scipy.constants|   It represents physical and mathematical constants.|\n",
    "|3.\t|scipy.fftpack\t|   It is used for Fourier transform.|\n",
    "|4.\t|scipy.integrate|   Integration routines|\n",
    "|5.\t|scipy.interpolation|   Interpolation|\n",
    "|6.\t|<span style='color: green;'>scipy.linalg</span>   |   It is used for linear algebra routine.|\n",
    "|7.\t|scipy.io   |   It is used for data input and output.|\n",
    "|8.\t|scipy.ndimage  |   It is used for the n-dimension image.|\n",
    "|9.\t|scipy.odr  |   Orthogonal distance regression.|\n",
    "|10.|scipy.optimize |   It is used for optimization.|\n",
    "|11.|scipy.signal   |\tIt is used in signal processing.|\n",
    "|12.|scipy.sparse   |\tSparse matrices and associated routines.|\n",
    "|13.|scipy.spatial  |\tSpatial data structures and algorithms.|\n",
    "|14.|scipy.special  |\tSpecial Function.|\n",
    "|15.|scipy.stats    |\tStatistics.|\n",
    "|16.|scipy.weaves   |\tIt is a tool for writing.|"
   ]
  },
  {
   "cell_type": "code",
   "execution_count": null,
   "metadata": {},
   "outputs": [],
   "source": []
  },
  {
   "cell_type": "code",
   "execution_count": null,
   "metadata": {},
   "outputs": [],
   "source": []
  },
  {
   "cell_type": "markdown",
   "metadata": {},
   "source": [
    "# 3. [Matplotlib](https://matplotlib.org/)\n",
    "\n",
    "- `Python`でグラフを作成するためのライブラリ\n",
    "- 多くのモジュールで構成されている\n",
    "\n",
    "> グラフを作成するための関数  \n",
    "> `matplotlib.pyplot` モジュールにまとめられている  \n",
    "> 通常、`plt`という名前でインポート  "
   ]
  },
  {
   "cell_type": "code",
   "execution_count": null,
   "metadata": {},
   "outputs": [],
   "source": []
  },
  {
   "cell_type": "code",
   "execution_count": null,
   "metadata": {},
   "outputs": [],
   "source": []
  },
  {
   "cell_type": "code",
   "execution_count": null,
   "metadata": {},
   "outputs": [],
   "source": []
  },
  {
   "cell_type": "markdown",
   "metadata": {},
   "source": [
    "# 4. Numpy, Scipy, Matplotlib を統合"
   ]
  },
  {
   "cell_type": "code",
   "execution_count": 31,
   "metadata": {},
   "outputs": [
    {
     "data": {
      "image/png": "[encoded data removed]",
      "text/plain": [
       "<Figure size 800x600 with 1 Axes>"
      ]
     },
     "metadata": {},
     "output_type": "display_data"
    }
   ],
   "source": [
    "# 必要なライブラリをインポートする\n",
    "import numpy as np\n",
    "from scipy import stats\n",
    "import matplotlib.pyplot as plt\n",
    "\n",
    "# Numpyの基本的な使い方\n",
    "# 配列の作成\n",
    "arr = np.array([1, 2, 3, 4, 5])\n",
    "\n",
    "# 配列の操作\n",
    "arr2 = arr + 2\n",
    "\n",
    "# 配列の要素数を取得\n",
    "length = len(arr)\n",
    "\n",
    "# 配列の平均値を計算\n",
    "mean_value = np.mean(arr)\n",
    "\n",
    "# Scipyの基本的な使い方\n",
    "# 正規分布の確率密度関数を計算\n",
    "mu = 0\n",
    "sigma = 1\n",
    "x = np.linspace(-3, 3, 100)\n",
    "pdf = stats.norm.pdf(x, mu, sigma)\n",
    "\n",
    "# 最小二乗法による直線のフィッティング\n",
    "x_data = np.array([1, 2, 3, 4, 5])\n",
    "y_data = np.array([2, 3, 3.5, 4.5, 5])\n",
    "slope, intercept, r_value, p_value, std_err = stats.linregress(x_data, y_data)\n",
    "\n",
    "# Matplotlibの基本的な使い方\n",
    "# グラフの作成\n",
    "plt.figure(figsize=(8, 6))\n",
    "\n",
    "# 散布図のプロット\n",
    "plt.scatter(x_data, y_data, label='Data Points')\n",
    "\n",
    "# 最小二乗法による直線のプロット\n",
    "plt.plot(x_data, intercept + slope * x_data, color='red', label='Fitted Line')\n",
    "\n",
    "# グラフにタイトルやラベルを追加\n",
    "plt.title('Linear Regression')\n",
    "plt.xlabel('X')\n",
    "plt.ylabel('Y')\n",
    "\n",
    "# 凡例の表示\n",
    "plt.legend()\n",
    "\n",
    "# グラフを表示\n",
    "plt.show()"
   ]
  },
  {
   "cell_type": "code",
   "execution_count": null,
   "metadata": {},
   "outputs": [],
   "source": []
  }
 ],
 "metadata": {
  "kernelspec": {
   "display_name": "Python 3",
   "language": "python",
   "name": "python3"
  },
  "language_info": {
   "codemirror_mode": {
    "name": "ipython",
    "version": 3
   },
   "file_extension": ".py",
   "mimetype": "text/x-python",
   "name": "python",
   "nbconvert_exporter": "python",
   "pygments_lexer": "ipython3",
   "version": "3.11.5"
  },
  "orig_nbformat": 4
 },
 "nbformat": 4,
 "nbformat_minor": 2
}
