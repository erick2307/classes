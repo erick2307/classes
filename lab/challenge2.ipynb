{
 "cells": [
  {
   "cell_type": "markdown",
   "metadata": {},
   "source": [
    "# 研究室　課題２  \n",
    "内容: Numpy, Matplotlib, Pandas, Scikit-learn, Git & Github"
   ]
  },
  {
   "cell_type": "code",
   "execution_count": 4,
   "metadata": {},
   "outputs": [],
   "source": [
    "# Download a code from Github URL (permalink)\n",
    "import urllib.request\n",
    "\n",
    "filedata = urllib.request.urlopen(\"https://raw.githubusercontent.com/microsoft/GlobalMLBuildingFootprints/main/scripts/read-large-files.py\")\n",
    "datatowrite = filedata.read()\n",
    " \n",
    "with open(\"./read-large-files.py\", 'wb') as f:\n",
    "    f.write(datatowrite)"
   ]
  },
  {
   "cell_type": "code",
   "execution_count": null,
   "metadata": {},
   "outputs": [],
   "source": []
  }
 ],
 "metadata": {
  "kernelspec": {
   "display_name": "Python 3.9.7 ('erickpy')",
   "language": "python",
   "name": "python3"
  },
  "language_info": {
   "codemirror_mode": {
    "name": "ipython",
    "version": 3
   },
   "file_extension": ".py",
   "mimetype": "text/x-python",
   "name": "python",
   "nbconvert_exporter": "python",
   "pygments_lexer": "ipython3",
   "version": "3.9.7"
  },
  "orig_nbformat": 4,
  "vscode": {
   "interpreter": {
    "hash": "059f5a2477c5c217c45560f18a9706031ad0ceca12efc3aab4aeb8ac1acadc8f"
   }
  }
 },
 "nbformat": 4,
 "nbformat_minor": 2
}
